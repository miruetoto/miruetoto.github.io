{
 "cells": [
  {
   "cell_type": "markdown",
   "metadata": {},
   "source": [
    "### 1. 분석환경셋팅 "
   ]
  },
  {
   "cell_type": "code",
   "execution_count": 2,
   "metadata": {},
   "outputs": [
    {
     "name": "stderr",
     "output_type": "stream",
     "text": [
      "R[write to console]: ── \u001b[1mAttaching packages\u001b[22m ─────────────────────────────────────── tidyverse 1.3.0 ──\n",
      "\n",
      "R[write to console]: \u001b[32m✔\u001b[39m \u001b[34mggplot2\u001b[39m 3.3.2     \u001b[32m✔\u001b[39m \u001b[34mpurrr  \u001b[39m 0.3.4\n",
      "\u001b[32m✔\u001b[39m \u001b[34mtibble \u001b[39m 3.0.3     \u001b[32m✔\u001b[39m \u001b[34mdplyr  \u001b[39m 1.0.1\n",
      "\u001b[32m✔\u001b[39m \u001b[34mtidyr  \u001b[39m 1.1.1     \u001b[32m✔\u001b[39m \u001b[34mstringr\u001b[39m 1.4.0\n",
      "\u001b[32m✔\u001b[39m \u001b[34mreadr  \u001b[39m 1.3.1     \u001b[32m✔\u001b[39m \u001b[34mforcats\u001b[39m 0.5.0\n",
      "\n",
      "R[write to console]: ── \u001b[1mConflicts\u001b[22m ────────────────────────────────────────── tidyverse_conflicts() ──\n",
      "\u001b[31m✖\u001b[39m \u001b[34mdplyr\u001b[39m::\u001b[32mfilter()\u001b[39m masks \u001b[34mstats\u001b[39m::filter()\n",
      "\u001b[31m✖\u001b[39m \u001b[34mdplyr\u001b[39m::\u001b[32mlag()\u001b[39m    masks \u001b[34mstats\u001b[39m::lag()\n",
      "\n"
     ]
    }
   ],
   "source": [
    "import tensorflow as tf\n",
    "from tensorflow import keras\n",
    "import requests \n",
    "exec(requests.get(\"http://miruetoto.github.io/source/datahandling.py\").text)\n",
    "%load_ext rpy2.ipython"
   ]
  },
  {
   "cell_type": "code",
   "execution_count": 3,
   "metadata": {},
   "outputs": [
    {
     "name": "stdout",
     "output_type": "stream",
     "text": [
      "1.14.0\n",
      "GPU check 4 TensorFlow: /device:GPU:0\n",
      "GPU check 4 Pytorch: GeForce RTX 2080 Ti\n"
     ]
    }
   ],
   "source": [
    "print(tf.__version__)\n",
    "checkgpu()"
   ]
  },
  {
   "cell_type": "markdown",
   "metadata": {},
   "source": [
    "--- \n",
    "### 2. Load data"
   ]
  },
  {
   "cell_type": "code",
   "execution_count": 29,
   "metadata": {},
   "outputs": [],
   "source": [
    "mnist=keras.datasets.mnist\n",
    "mnistdata=mnist.load_data()"
   ]
  },
  {
   "cell_type": "markdown",
   "metadata": {},
   "source": [
    "읽힌 자료는 아래와 같은 특징이 있다. \n",
    "- mnistdata는 len=2인 튜플이다.\n",
    "- mnistdata[0]에는 훈련집합이 담겨있고, mnistdata[1]에는 시험집합이 담겨있다. \n",
    "    - mnistdata[0][0]에는 train X 가 남겨있고, mnistdata[0][1]에는 train Y 가 담겨있다. \n",
    "    - mnistdata[1][0]에는 test X 가 남겨있고, mnistdata[1][1]에는 test Y 가 담겨있다. \n",
    "- mnistdata[0][0] = Xtrain = (60000,28,28) np array \n",
    "- mnistdata[0][1] = Ytrain = (60000,) np array \n",
    "- mnistdata[1][0] = Xtest = (10000,28,28) np array \n",
    "- mnistdata[1][1] = Ytest = (10000,) np array \n"
   ]
  },
  {
   "cell_type": "markdown",
   "metadata": {},
   "source": [
    "아래와 같은 방식으로 자료를 저장한다 "
   ]
  },
  {
   "cell_type": "code",
   "execution_count": 30,
   "metadata": {},
   "outputs": [],
   "source": [
    "(Xtrain,Ytrain),(Xtest,Ytest)= mnistdata"
   ]
  },
  {
   "cell_type": "markdown",
   "metadata": {},
   "source": [
    "---\n",
    "### 3. 데이터가공 (reshape,astype)"
   ]
  },
  {
   "cell_type": "code",
   "execution_count": 31,
   "metadata": {},
   "outputs": [],
   "source": [
    "Xtrain=Xtrain.reshape(60000,784)\n",
    "Xtest=Xtest.reshape(10000,784)\n",
    "Xtrain=Xtrain.astype('float32')\n",
    "Xtest=Xtest.astype('float32')\n",
    "Xtrain/=255\n",
    "Xtest/=255\n",
    "Ytrain=tf.keras.utils.to_categorical(Ytrain,10) # 10은 카테고리의 총 수, 즉 0~9까지의 숫자\n",
    "Ytest=tf.keras.utils.to_categorical(Ytest,10) "
   ]
  },
  {
   "cell_type": "markdown",
   "metadata": {},
   "source": [
    "(1) reshape: MLP를 돌리기 위해서 X의 차원을 (60000,28,28) np array 에서 (60000,784) np array 로 바꾼다. \n",
    "\n",
    "(2) astype: X의 자료형을 'unit8'에서 'float32'로 바꿔준다. \n",
    "\n",
    "(3) X의 값은 0-255로 분포되어 있는데 이를 0-1사이값으로 분포하게 바꾼다.\n",
    "\n",
    "(4) Y의 값은 원핫인코딩 \n",
    "\n",
    "***Note: 원핫인코딩후에는 Y의 차원이 (60000,1) 에서 (60000,10)으로 바뀐다.***\n",
    "\n",
    "***Note: 2)를 거치지 않으면 3)이 실행되지 않음. 즉 자료형이 float32일 경우에만 3)이 실행가능.***"
   ]
  },
  {
   "cell_type": "markdown",
   "metadata": {},
   "source": [
    "---\n",
    "### 4. 모델구축 / 아키텍쳐 설계 / 모델링"
   ]
  },
  {
   "cell_type": "code",
   "execution_count": 36,
   "metadata": {},
   "outputs": [
    {
     "name": "stdout",
     "output_type": "stream",
     "text": [
      "Model: \"sequential_22\"\n",
      "_________________________________________________________________\n",
      "Layer (type)                 Output Shape              Param #   \n",
      "=================================================================\n",
      "inputlayer (Dense)           (None, 128)               100480    \n",
      "_________________________________________________________________\n",
      "hiddenlayer1 (Dense)         (None, 128)               16512     \n",
      "_________________________________________________________________\n",
      "dropout_5 (Dropout)          (None, 128)               0         \n",
      "_________________________________________________________________\n",
      "outputlayer (Dense)          (None, 10)                1290      \n",
      "=================================================================\n",
      "Total params: 118,282\n",
      "Trainable params: 118,282\n",
      "Non-trainable params: 0\n",
      "_________________________________________________________________\n",
      "Failed to import pydot. You must install pydot and graphviz for `pydotprint` to work.\n"
     ]
    }
   ],
   "source": [
    "model1 = tf.keras.models.Sequential()\n",
    "model2 = tf.keras.models.Sequential()\n",
    "model1.add(keras.layers.Dense(128,input_shape=(784,),name='inputlayer',activation='relu'))\n",
    "model1.add(keras.layers.Dense(128,name='hiddenlayer1',activation='relu',\n",
    "                              kernel_regularizer=tf.keras.regularizers.l1(0.01),\n",
    "                              activity_regularizer=tf.keras.regularizers.l1_l2(l1=0.01, l2=0.01)))\n",
    "model1.add(keras.layers.Dropout(0.3))\n",
    "model1.add(keras.layers.Dense(10,name='outputlayer',activation='softmax'))\n",
    "model1.summary()\n",
    "tf.keras.utils.plot_model(model1,to_file='model1.png')\n",
    "model1.compile(optimizer='Adam',loss='categorical_crossentropy',metrics=['accuracy'])"
   ]
  },
  {
   "cell_type": "markdown",
   "metadata": {},
   "source": [
    "**몇가지노트**\n",
    "\n",
    "(1) 파라메터 계산하는 방법: \n",
    "- L0의 경우 입력이 (n,784)출력이 (n,128)이다. 따라서 추정할 파라메터의 수는 (784+1) * 128 = 100480 이다. \n",
    "\n",
    "(2) 옵티마이저 바꾸는 방법: \n",
    "- model1.compile(optimizer=**'SGD'**,loss='categorical_crossentropy',metrics=['accuracy'])\n",
    "- model1.compile(optimizer=**'RMSprop'**,loss='categorical_crossentropy',metrics=['accuracy'])\n",
    "- model1.compile(optimizer=**'Adam'**,loss='categorical_crossentropy',metrics=['accuracy'])\n",
    "- https://www.tensorflow.org/versions/r2.2/api_docs/python/tf/keras/optimizers\n",
    "\n",
    "(3) 활성화함수 종류: \n",
    "- 'softmax','linear','relu','tanh','elu' \n",
    "- https://www.tensorflow.org/versions/r2.2/api_docs/python/tf/keras/activations\n",
    "\n",
    "(4) regularizers\n",
    "- https://www.tensorflow.org/versions/r2.2/api_docs/python/tf/keras/regularizers\n",
    "\n",
    "(5) metrics\n",
    "- https://www.tensorflow.org/versions/r2.2/api_docs/python/tf/keras/metrics\n",
    "\n",
    "(6) loss\n",
    "- https://www.tensorflow.org/versions/r2.2/api_docs/python/tf/keras/losses"
   ]
  },
  {
   "cell_type": "markdown",
   "metadata": {},
   "source": [
    "### 5. 모델훈련 / 계수찾기 "
   ]
  },
  {
   "cell_type": "code",
   "execution_count": 40,
   "metadata": {},
   "outputs": [
    {
     "name": "stdout",
     "output_type": "stream",
     "text": [
      "Epoch 1/10\n",
      "375/375 [==============================] - 2s 6ms/step - loss: 3.1300 - accuracy: 0.8294 - val_loss: 0.8654 - val_accuracy: 0.9119\n",
      "Epoch 2/10\n",
      "375/375 [==============================] - 2s 5ms/step - loss: 0.7884 - accuracy: 0.9070 - val_loss: 0.6397 - val_accuracy: 0.9297\n",
      "Epoch 3/10\n",
      "375/375 [==============================] - 2s 5ms/step - loss: 0.6409 - accuracy: 0.9196 - val_loss: 0.5491 - val_accuracy: 0.9342\n",
      "Epoch 4/10\n",
      "375/375 [==============================] - 2s 5ms/step - loss: 0.5692 - accuracy: 0.9257 - val_loss: 0.4987 - val_accuracy: 0.9393\n",
      "Epoch 5/10\n",
      "375/375 [==============================] - 2s 5ms/step - loss: 0.5214 - accuracy: 0.9321 - val_loss: 0.4605 - val_accuracy: 0.9448\n",
      "Epoch 6/10\n",
      "375/375 [==============================] - 2s 5ms/step - loss: 0.4849 - accuracy: 0.9345 - val_loss: 0.4445 - val_accuracy: 0.9446\n",
      "Epoch 7/10\n",
      "375/375 [==============================] - 3s 7ms/step - loss: 0.4564 - accuracy: 0.9394 - val_loss: 0.4070 - val_accuracy: 0.9482\n",
      "Epoch 8/10\n",
      "375/375 [==============================] - 3s 8ms/step - loss: 0.4374 - accuracy: 0.9421 - val_loss: 0.3973 - val_accuracy: 0.9498\n",
      "Epoch 9/10\n",
      "375/375 [==============================] - 2s 5ms/step - loss: 0.4209 - accuracy: 0.9443 - val_loss: 0.3881 - val_accuracy: 0.9528\n",
      "Epoch 10/10\n",
      "375/375 [==============================] - 2s 5ms/step - loss: 0.4046 - accuracy: 0.9470 - val_loss: 0.3722 - val_accuracy: 0.9557\n"
     ]
    },
    {
     "data": {
      "text/plain": [
       "<tensorflow.python.keras.callbacks.History at 0x7fc9a8149190>"
      ]
     },
     "execution_count": 40,
     "metadata": {},
     "output_type": "execute_result"
    }
   ],
   "source": [
    "callbacks=[tf.keras.callbacks.TensorBoard(log_dir='./logs')]\n",
    "model1.fit(Xtrain,Ytrain,batch_size=128,epochs=10,verbose=1, validation_split=0.2,callbacks=callbacks)"
   ]
  },
  {
   "cell_type": "markdown",
   "metadata": {},
   "source": [
    "### 6. 모델평가 / Prediction"
   ]
  },
  {
   "cell_type": "code",
   "execution_count": 34,
   "metadata": {
    "scrolled": true
   },
   "outputs": [],
   "source": [
    "test_loss, test_acc = model1.evaluate(Xtest,Ytest,verbose=0)"
   ]
  },
  {
   "cell_type": "code",
   "execution_count": 37,
   "metadata": {},
   "outputs": [
    {
     "ename": "SyntaxError",
     "evalue": "invalid syntax (<ipython-input-37-7628f85f9524>, line 1)",
     "output_type": "error",
     "traceback": [
      "\u001b[0;36m  File \u001b[0;32m\"<ipython-input-37-7628f85f9524>\"\u001b[0;36m, line \u001b[0;32m1\u001b[0m\n\u001b[0;31m    tensorboard --logdir=./logs/example/\u001b[0m\n\u001b[0m                         ^\u001b[0m\n\u001b[0;31mSyntaxError\u001b[0m\u001b[0;31m:\u001b[0m invalid syntax\n"
     ]
    }
   ],
   "source": [
    "tensorboard --logdir=./logs/example/"
   ]
  },
  {
   "cell_type": "code",
   "execution_count": null,
   "metadata": {},
   "outputs": [],
   "source": [
    "test_acc"
   ]
  },
  {
   "cell_type": "code",
   "execution_count": null,
   "metadata": {},
   "outputs": [],
   "source": []
  }
 ],
 "metadata": {
  "kernelspec": {
   "display_name": "Python 3",
   "language": "python",
   "name": "python3"
  },
  "language_info": {
   "codemirror_mode": {
    "name": "ipython",
    "version": 3
   },
   "file_extension": ".py",
   "mimetype": "text/x-python",
   "name": "python",
   "nbconvert_exporter": "python",
   "pygments_lexer": "ipython3",
   "version": "3.7.6"
  }
 },
 "nbformat": 4,
 "nbformat_minor": 4
}
