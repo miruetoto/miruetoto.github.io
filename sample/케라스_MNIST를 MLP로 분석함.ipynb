{
 "cells": [
  {
   "cell_type": "markdown",
   "metadata": {},
   "source": [
    "### 1. 분석환경셋팅 "
   ]
  },
  {
   "cell_type": "code",
   "execution_count": 74,
   "metadata": {},
   "outputs": [
    {
     "ename": "SyntaxError",
     "evalue": "invalid syntax (<string>, line 14)",
     "output_type": "error",
     "traceback": [
      "Traceback \u001b[0;36m(most recent call last)\u001b[0m:\n",
      "  File \u001b[1;32m\"/home/cgb2/anaconda3/envs/py20190129/lib/python3.7/site-packages/IPython/core/interactiveshell.py\"\u001b[0m, line \u001b[1;32m3331\u001b[0m, in \u001b[1;35mrun_code\u001b[0m\n    exec(code_obj, self.user_global_ns, self.user_ns)\n",
      "\u001b[0;36m  File \u001b[0;32m\"<ipython-input-74-9b7405a3fd93>\"\u001b[0;36m, line \u001b[0;32m4\u001b[0;36m, in \u001b[0;35m<module>\u001b[0;36m\u001b[0m\n\u001b[0;31m    exec(requests.get(\"http://miruetoto.github.io/source/datahandling.py\").text)\u001b[0m\n",
      "\u001b[0;36m  File \u001b[0;32m\"<string>\"\u001b[0;36m, line \u001b[0;32m14\u001b[0m\n\u001b[0;31m    import torch\u001b[0m\n\u001b[0m         ^\u001b[0m\n\u001b[0;31mSyntaxError\u001b[0m\u001b[0;31m:\u001b[0m invalid syntax\n"
     ]
    }
   ],
   "source": [
    "import tensorflow as tf\n",
    "from tensorflow import keras\n",
    "import requests \n",
    "exec(requests.get(\"http://miruetoto.github.io/source/datahandling.py\").text)\n",
    "%load_ext rpy2.ipython"
   ]
  },
  {
   "cell_type": "code",
   "execution_count": 73,
   "metadata": {},
   "outputs": [
    {
     "name": "stdout",
     "output_type": "stream",
     "text": [
      "GPU check 4 Keras: ['/job:localhost/replica:0/task:0/device:GPU:0']\n",
      "GPU check 4 Pytorch: GeForce RTX 2080 Ti\n"
     ]
    }
   ],
   "source": [
    "tf.__version__\n",
    "checkgpu()"
   ]
  },
  {
   "cell_type": "markdown",
   "metadata": {},
   "source": [
    "--- \n",
    "### 2. Load data"
   ]
  },
  {
   "cell_type": "code",
   "execution_count": 4,
   "metadata": {},
   "outputs": [],
   "source": [
    "mnist=keras.datasets.mnist\n",
    "mnistdata=mnist.load_data()"
   ]
  },
  {
   "cell_type": "markdown",
   "metadata": {},
   "source": [
    "읽힌 자료는 아래와 같은 특징이 있다. \n",
    "- mnistdata는 len=2인 튜플이다.\n",
    "- mnistdata[0]에는 훈련집합이 담겨있고, mnistdata[1]에는 시험집합이 담겨있다. \n",
    "    - mnistdata[0][0]에는 train X 가 남겨있고, mnistdata[0][1]에는 train Y 가 담겨있다. \n",
    "    - mnistdata[1][0]에는 test X 가 남겨있고, mnistdata[1][1]에는 test Y 가 담겨있다. \n",
    "- mnistdata[0][0] = Xtrain = (60000,28,28) np array \n",
    "- mnistdata[0][1] = Ytrain = (60000,) np array \n",
    "- mnistdata[1][0] = Xtest = (10000,28,28) np array \n",
    "- mnistdata[1][1] = Ytest = (10000,) np array \n"
   ]
  },
  {
   "cell_type": "markdown",
   "metadata": {},
   "source": [
    "아래와 같은 방식으로 자료를 저장한다 "
   ]
  },
  {
   "cell_type": "code",
   "execution_count": 5,
   "metadata": {},
   "outputs": [],
   "source": [
    "(Xtrain,Ytrain),(Xtest,Ytest)= mnistdata"
   ]
  },
  {
   "cell_type": "markdown",
   "metadata": {},
   "source": [
    "---\n",
    "### 3. 데이터가공 (reshape,astype)"
   ]
  },
  {
   "cell_type": "code",
   "execution_count": 6,
   "metadata": {},
   "outputs": [],
   "source": [
    "Xtrain=Xtrain.reshape(60000,784)\n",
    "Xtest=Xtest.reshape(10000,784)\n",
    "Xtrain=Xtrain.astype('float32')\n",
    "Xtest=Xtest.astype('float32')\n",
    "Xtrain/=255\n",
    "Xtest/=255\n",
    "Ytrain=tf.keras.utils.to_categorical(Ytrain,10) # 10은 카테고리의 총 수, 즉 0~9까지의 숫자\n",
    "Ytest=tf.keras.utils.to_categorical(Ytest,10) "
   ]
  },
  {
   "cell_type": "markdown",
   "metadata": {},
   "source": [
    "(1) reshape: MLP를 돌리기 위해서 X의 차원을 (60000,28,28) np array 에서 (60000,784) np array 로 바꾼다. \n",
    "\n",
    "(2) astype: X의 자료형을 'unit8'에서 'float32'로 바꿔준다. \n",
    "\n",
    "(3) X의 값은 0-255로 분포되어 있는데 이를 0-1사이값으로 분포하게 바꾼다.\n",
    "\n",
    "(4) Y의 값은 원핫인코딩 \n",
    "\n",
    "***Note: 원핫인코딩후에는 Y의 차원이 (60000,1) 에서 (60000,10)으로 바뀐다.***\n",
    "\n",
    "***Note: 2)를 거치지 않으면 3)이 실행되지 않음. 즉 자료형이 float32일 경우에만 3)이 실행가능.***"
   ]
  },
  {
   "cell_type": "markdown",
   "metadata": {},
   "source": [
    "---\n",
    "### 4. 모델구축 / 아키텍쳐 설계 / 모델링"
   ]
  },
  {
   "cell_type": "code",
   "execution_count": 61,
   "metadata": {},
   "outputs": [
    {
     "name": "stdout",
     "output_type": "stream",
     "text": [
      "Model: \"sequential_27\"\n",
      "_________________________________________________________________\n",
      "Layer (type)                 Output Shape              Param #   \n",
      "=================================================================\n",
      "layer0 (Dense)               (None, 128)               100480    \n",
      "_________________________________________________________________\n",
      "layer1 (Dense)               (None, 128)               16512     \n",
      "_________________________________________________________________\n",
      "layerL (Dense)               (None, 10)                1290      \n",
      "=================================================================\n",
      "Total params: 118,282\n",
      "Trainable params: 118,282\n",
      "Non-trainable params: 0\n",
      "_________________________________________________________________\n"
     ]
    }
   ],
   "source": [
    "model1 = tf.keras.models.Sequential()\n",
    "model2 = tf.keras.models.Sequential()\n",
    "model1.add(keras.layers.Dense(128,input_shape=(784,),name='layer0',activation='relu'))\n",
    "model1.add(keras.layers.Dense(128,name='layer1',activation='relu'))\n",
    "model1.add(keras.layers.Dropout(0.3))\n",
    "model1.add(keras.layers.Dense(10,name='layerL',activation='softmax'))\n",
    "model1.summary()\n",
    "model1.compile(optimizer='Adam',loss='categorical_crossentropy',metrics=['accuracy'])"
   ]
  },
  {
   "cell_type": "markdown",
   "metadata": {},
   "source": [
    "**몇가지노트**\n",
    "\n",
    "(1) 파라메터 계산하는 방법: L0의 경우 입력이 (n,784)출력이 (n,128)이다. 따라서 추정할 파라메터의 수는 (784+1) * 128 = 100480 이다. \n",
    "\n",
    "(2) 옵티마이저 바꾸는 방법: \n",
    "\n",
    "model1.compile(optimizer=**'SGD'**,loss='categorical_crossentropy',metrics=['accuracy'])\n",
    "model1.compile(optimizer=**'RMSprop'**,loss='categorical_crossentropy',metrics=['accuracy'])\n",
    "model1.compile(optimizer=**'Adam'**,loss='categorical_crossentropy',metrics=['accuracy'])\n"
   ]
  },
  {
   "cell_type": "markdown",
   "metadata": {},
   "source": [
    "### 5. 모델훈련 / 계수찾기 "
   ]
  },
  {
   "cell_type": "code",
   "execution_count": 62,
   "metadata": {},
   "outputs": [
    {
     "name": "stdout",
     "output_type": "stream",
     "text": [
      "Train on 48000 samples, validate on 12000 samples\n",
      "Epoch 1/10\n",
      "48000/48000 [==============================] - 1s 19us/sample - loss: 0.3476 - accuracy: 0.9003 - val_loss: 0.1566 - val_accuracy: 0.9550\n",
      "Epoch 2/10\n",
      "48000/48000 [==============================] - 1s 15us/sample - loss: 0.1360 - accuracy: 0.9596 - val_loss: 0.1214 - val_accuracy: 0.9645\n",
      "Epoch 3/10\n",
      "48000/48000 [==============================] - 1s 17us/sample - loss: 0.0949 - accuracy: 0.9720 - val_loss: 0.1045 - val_accuracy: 0.9682\n",
      "Epoch 4/10\n",
      "48000/48000 [==============================] - 1s 16us/sample - loss: 0.0714 - accuracy: 0.9781 - val_loss: 0.1085 - val_accuracy: 0.9671\n",
      "Epoch 5/10\n",
      "48000/48000 [==============================] - 1s 14us/sample - loss: 0.0575 - accuracy: 0.9832 - val_loss: 0.0877 - val_accuracy: 0.9738\n",
      "Epoch 6/10\n",
      "48000/48000 [==============================] - 1s 18us/sample - loss: 0.0452 - accuracy: 0.9862 - val_loss: 0.1062 - val_accuracy: 0.9700\n",
      "Epoch 7/10\n",
      "48000/48000 [==============================] - 1s 16us/sample - loss: 0.0356 - accuracy: 0.9892 - val_loss: 0.0913 - val_accuracy: 0.9738\n",
      "Epoch 8/10\n",
      "48000/48000 [==============================] - 1s 22us/sample - loss: 0.0306 - accuracy: 0.9905 - val_loss: 0.1020 - val_accuracy: 0.9730\n",
      "Epoch 9/10\n",
      "48000/48000 [==============================] - 1s 15us/sample - loss: 0.0236 - accuracy: 0.9926 - val_loss: 0.0927 - val_accuracy: 0.9751\n",
      "Epoch 10/10\n",
      "48000/48000 [==============================] - 1s 16us/sample - loss: 0.0194 - accuracy: 0.9941 - val_loss: 0.1037 - val_accuracy: 0.9739\n"
     ]
    },
    {
     "data": {
      "text/plain": [
       "<tensorflow.python.keras.callbacks.History at 0x7fa264291e10>"
      ]
     },
     "execution_count": 62,
     "metadata": {},
     "output_type": "execute_result"
    }
   ],
   "source": [
    "model1.fit(Xtrain,Ytrain,batch_size=128,epochs=10,verbose=1, validation_split=0.2)"
   ]
  },
  {
   "cell_type": "markdown",
   "metadata": {},
   "source": [
    "### 6. 모델평가 / Prediction"
   ]
  },
  {
   "cell_type": "code",
   "execution_count": 63,
   "metadata": {
    "scrolled": true
   },
   "outputs": [],
   "source": [
    "test_loss, test_acc = model1.evaluate(Xtest,Ytest,verbose=0)"
   ]
  },
  {
   "cell_type": "code",
   "execution_count": 64,
   "metadata": {},
   "outputs": [
    {
     "data": {
      "text/plain": [
       "0.08750023055867641"
      ]
     },
     "execution_count": 64,
     "metadata": {},
     "output_type": "execute_result"
    }
   ],
   "source": [
    "test_loss"
   ]
  },
  {
   "cell_type": "code",
   "execution_count": 65,
   "metadata": {},
   "outputs": [
    {
     "data": {
      "text/plain": [
       "0.9756"
      ]
     },
     "execution_count": 65,
     "metadata": {},
     "output_type": "execute_result"
    }
   ],
   "source": [
    "test_acc"
   ]
  },
  {
   "cell_type": "code",
   "execution_count": null,
   "metadata": {},
   "outputs": [],
   "source": []
  }
 ],
 "metadata": {
  "kernelspec": {
   "display_name": "Python 3",
   "language": "python",
   "name": "python3"
  },
  "language_info": {
   "codemirror_mode": {
    "name": "ipython",
    "version": 3
   },
   "file_extension": ".py",
   "mimetype": "text/x-python",
   "name": "python",
   "nbconvert_exporter": "python",
   "pygments_lexer": "ipython3",
   "version": "3.7.6"
  }
 },
 "nbformat": 4,
 "nbformat_minor": 4
}
