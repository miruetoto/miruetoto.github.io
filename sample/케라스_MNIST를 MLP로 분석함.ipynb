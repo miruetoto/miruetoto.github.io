{
 "cells": [
  {
   "cell_type": "markdown",
   "metadata": {},
   "source": [
    "### 1. 분석환경셋팅 "
   ]
  },
  {
   "cell_type": "code",
   "execution_count": 19,
   "metadata": {},
   "outputs": [
    {
     "name": "stdout",
     "output_type": "stream",
     "text": [
      "The rpy2.ipython extension is already loaded. To reload it, use:\n",
      "  %reload_ext rpy2.ipython\n"
     ]
    }
   ],
   "source": [
    "import tensorflow as tf\n",
    "from tensorflow import keras\n",
    "import requests \n",
    "exec(requests.get(\"http://miruetoto.github.io/source/datahandling.py\").text)\n",
    "%load_ext rpy2.ipython"
   ]
  },
  {
   "cell_type": "code",
   "execution_count": 24,
   "metadata": {},
   "outputs": [
    {
     "name": "stdout",
     "output_type": "stream",
     "text": [
      "2.2.0\n",
      "GPU check 4 TensorFlow: /device:GPU:0\n"
     ]
    }
   ],
   "source": [
    "print(tf.__version__)\n",
    "checkgpu()"
   ]
  },
  {
   "cell_type": "code",
   "execution_count": 23,
   "metadata": {},
   "outputs": [],
   "source": [
    "def checkgpu(mode=1):\n",
    "    if mode==1:\n",
    "        import tensorflow as tf \n",
    "        print('GPU check 4 TensorFlow: '+ str(tf.test.gpu_device_name()))\n",
    "    elif mode==2:\n",
    "        import torch\n",
    "        try: torch.cuda.get_device_name(0)\n",
    "        except AssertionError as e: print('GPU check 4 Pytorch: ')\n",
    "        else: print('GPU check 4 Pytorch: '+ str(torch.cuda.get_device_name(0)))\n",
    "    else: print(\"mode=1: tensorflow(default) / mode=2: pytorch\") "
   ]
  },
  {
   "cell_type": "markdown",
   "metadata": {},
   "source": [
    "--- \n",
    "### 2. Load data"
   ]
  },
  {
   "cell_type": "code",
   "execution_count": 14,
   "metadata": {},
   "outputs": [],
   "source": [
    "mnist=keras.datasets.mnist\n",
    "mnistdata=mnist.load_data()"
   ]
  },
  {
   "cell_type": "markdown",
   "metadata": {},
   "source": [
    "읽힌 자료는 아래와 같은 특징이 있다. \n",
    "- mnistdata는 len=2인 튜플이다.\n",
    "- mnistdata[0]에는 훈련집합이 담겨있고, mnistdata[1]에는 시험집합이 담겨있다. \n",
    "    - mnistdata[0][0]에는 train X 가 남겨있고, mnistdata[0][1]에는 train Y 가 담겨있다. \n",
    "    - mnistdata[1][0]에는 test X 가 남겨있고, mnistdata[1][1]에는 test Y 가 담겨있다. \n",
    "- mnistdata[0][0] = Xtrain = (60000,28,28) np array \n",
    "- mnistdata[0][1] = Ytrain = (60000,) np array \n",
    "- mnistdata[1][0] = Xtest = (10000,28,28) np array \n",
    "- mnistdata[1][1] = Ytest = (10000,) np array \n"
   ]
  },
  {
   "cell_type": "markdown",
   "metadata": {},
   "source": [
    "아래와 같은 방식으로 자료를 저장한다 "
   ]
  },
  {
   "cell_type": "code",
   "execution_count": 15,
   "metadata": {},
   "outputs": [],
   "source": [
    "(Xtrain,Ytrain),(Xtest,Ytest)= mnistdata"
   ]
  },
  {
   "cell_type": "markdown",
   "metadata": {},
   "source": [
    "---\n",
    "### 3. 데이터가공 (reshape,astype)"
   ]
  },
  {
   "cell_type": "code",
   "execution_count": 16,
   "metadata": {},
   "outputs": [],
   "source": [
    "Xtrain=Xtrain.reshape(60000,784)\n",
    "Xtest=Xtest.reshape(10000,784)\n",
    "Xtrain=Xtrain.astype('float32')\n",
    "Xtest=Xtest.astype('float32')\n",
    "Xtrain/=255\n",
    "Xtest/=255\n",
    "Ytrain=tf.keras.utils.to_categorical(Ytrain,10) # 10은 카테고리의 총 수, 즉 0~9까지의 숫자\n",
    "Ytest=tf.keras.utils.to_categorical(Ytest,10) "
   ]
  },
  {
   "cell_type": "markdown",
   "metadata": {},
   "source": [
    "(1) reshape: MLP를 돌리기 위해서 X의 차원을 (60000,28,28) np array 에서 (60000,784) np array 로 바꾼다. \n",
    "\n",
    "(2) astype: X의 자료형을 'unit8'에서 'float32'로 바꿔준다. \n",
    "\n",
    "(3) X의 값은 0-255로 분포되어 있는데 이를 0-1사이값으로 분포하게 바꾼다.\n",
    "\n",
    "(4) Y의 값은 원핫인코딩 \n",
    "\n",
    "***Note: 원핫인코딩후에는 Y의 차원이 (60000,1) 에서 (60000,10)으로 바뀐다.***\n",
    "\n",
    "***Note: 2)를 거치지 않으면 3)이 실행되지 않음. 즉 자료형이 float32일 경우에만 3)이 실행가능.***"
   ]
  },
  {
   "cell_type": "markdown",
   "metadata": {},
   "source": [
    "---\n",
    "### 4. 모델구축 / 아키텍쳐 설계 / 모델링"
   ]
  },
  {
   "cell_type": "code",
   "execution_count": 17,
   "metadata": {},
   "outputs": [
    {
     "name": "stdout",
     "output_type": "stream",
     "text": [
      "Model: \"sequential\"\n",
      "_________________________________________________________________\n",
      "Layer (type)                 Output Shape              Param #   \n",
      "=================================================================\n",
      "inputlayer (Dense)           (None, 128)               100480    \n",
      "_________________________________________________________________\n",
      "hiddenlayer1 (Dense)         (None, 128)               16512     \n",
      "_________________________________________________________________\n",
      "dropout (Dropout)            (None, 128)               0         \n",
      "_________________________________________________________________\n",
      "outputlayer (Dense)          (None, 10)                1290      \n",
      "=================================================================\n",
      "Total params: 118,282\n",
      "Trainable params: 118,282\n",
      "Non-trainable params: 0\n",
      "_________________________________________________________________\n",
      "Failed to import pydot. You must install pydot and graphviz for `pydotprint` to work.\n"
     ]
    }
   ],
   "source": [
    "model1 = tf.keras.models.Sequential()\n",
    "model2 = tf.keras.models.Sequential()\n",
    "model1.add(keras.layers.Dense(128,input_shape=(784,),name='inputlayer',activation='relu'))\n",
    "model1.add(keras.layers.Dense(128,name='hiddenlayer1',activation='relu',\n",
    "                              kernel_regularizer=tf.keras.regularizers.l1(0.01),\n",
    "                              activity_regularizer=tf.keras.regularizers.l1_l2(l1=0.01, l2=0.01)))\n",
    "model1.add(keras.layers.Dropout(0.3))\n",
    "model1.add(keras.layers.Dense(10,name='outputlayer',activation='softmax'))\n",
    "model1.summary()\n",
    "tf.keras.utils.plot_model(model1,to_file='model1.png')\n",
    "model1.compile(optimizer='Adam',loss='categorical_crossentropy',metrics=['accuracy'])"
   ]
  },
  {
   "cell_type": "markdown",
   "metadata": {},
   "source": [
    "**몇가지노트**\n",
    "\n",
    "(1) 파라메터 계산하는 방법: \n",
    "- L0의 경우 입력이 (n,784)출력이 (n,128)이다. 따라서 추정할 파라메터의 수는 (784+1) * 128 = 100480 이다. \n",
    "\n",
    "(2) 옵티마이저 바꾸는 방법: \n",
    "- model1.compile(optimizer=**'SGD'**,loss='categorical_crossentropy',metrics=['accuracy'])\n",
    "- model1.compile(optimizer=**'RMSprop'**,loss='categorical_crossentropy',metrics=['accuracy'])\n",
    "- model1.compile(optimizer=**'Adam'**,loss='categorical_crossentropy',metrics=['accuracy'])\n",
    "- https://www.tensorflow.org/versions/r2.2/api_docs/python/tf/keras/optimizers\n",
    "\n",
    "(3) 활성화함수 종류: \n",
    "- 'softmax','linear','relu','tanh','elu' \n",
    "- https://www.tensorflow.org/versions/r2.2/api_docs/python/tf/keras/activations\n",
    "\n",
    "(4) regularizers\n",
    "- https://www.tensorflow.org/versions/r2.2/api_docs/python/tf/keras/regularizers\n",
    "\n",
    "(5) metrics\n",
    "- https://www.tensorflow.org/versions/r2.2/api_docs/python/tf/keras/metrics\n",
    "\n",
    "(6) loss\n",
    "- https://www.tensorflow.org/versions/r2.2/api_docs/python/tf/keras/losses"
   ]
  },
  {
   "cell_type": "markdown",
   "metadata": {},
   "source": [
    "### 5. 모델훈련 / 계수찾기 "
   ]
  },
  {
   "cell_type": "code",
   "execution_count": 27,
   "metadata": {},
   "outputs": [
    {
     "name": "stdout",
     "output_type": "stream",
     "text": [
      "Epoch 1/10\n",
      "47/47 [==============================] - 0s 3ms/step - loss: 0.2213 - accuracy: 0.9735 - val_loss: 0.2279 - val_accuracy: 0.9681\n",
      "Epoch 2/10\n",
      "47/47 [==============================] - 0s 3ms/step - loss: 0.2205 - accuracy: 0.9735 - val_loss: 0.2271 - val_accuracy: 0.9687\n",
      "Epoch 3/10\n",
      "47/47 [==============================] - 0s 3ms/step - loss: 0.2201 - accuracy: 0.9738 - val_loss: 0.2272 - val_accuracy: 0.9679\n",
      "Epoch 4/10\n",
      "47/47 [==============================] - 0s 3ms/step - loss: 0.2198 - accuracy: 0.9735 - val_loss: 0.2261 - val_accuracy: 0.9682\n",
      "Epoch 5/10\n",
      "47/47 [==============================] - 0s 3ms/step - loss: 0.2189 - accuracy: 0.9740 - val_loss: 0.2264 - val_accuracy: 0.9683\n",
      "Epoch 6/10\n",
      "47/47 [==============================] - 0s 3ms/step - loss: 0.2178 - accuracy: 0.9742 - val_loss: 0.2264 - val_accuracy: 0.9687\n",
      "Epoch 7/10\n",
      "47/47 [==============================] - 0s 3ms/step - loss: 0.2185 - accuracy: 0.9742 - val_loss: 0.2251 - val_accuracy: 0.9688\n",
      "Epoch 8/10\n",
      "47/47 [==============================] - 0s 3ms/step - loss: 0.2178 - accuracy: 0.9739 - val_loss: 0.2253 - val_accuracy: 0.9688\n",
      "Epoch 9/10\n",
      "47/47 [==============================] - 0s 3ms/step - loss: 0.2169 - accuracy: 0.9742 - val_loss: 0.2253 - val_accuracy: 0.9679\n",
      "Epoch 10/10\n",
      "47/47 [==============================] - 0s 3ms/step - loss: 0.2187 - accuracy: 0.9735 - val_loss: 0.2251 - val_accuracy: 0.9684\n"
     ]
    },
    {
     "data": {
      "text/plain": [
       "<tensorflow.python.keras.callbacks.History at 0x7f3948359c10>"
      ]
     },
     "execution_count": 27,
     "metadata": {},
     "output_type": "execute_result"
    }
   ],
   "source": [
    "#callbacks=[tf.keras.callbacks.TensorBoard(log_dir='./logs')]\n",
    "model1.fit(Xtrain,Ytrain,batch_size=1028,epochs=10,verbose=1, validation_split=0.2,callbacks=callbacks)"
   ]
  },
  {
   "cell_type": "markdown",
   "metadata": {},
   "source": [
    "### 6. 모델저장"
   ]
  },
  {
   "cell_type": "code",
   "execution_count": 60,
   "metadata": {
    "scrolled": true
   },
   "outputs": [
    {
     "data": {
      "text/plain": [
       "<tensorflow.python.training.tracking.util.CheckpointLoadStatus at 0x7f39480f8700>"
      ]
     },
     "execution_count": 60,
     "metadata": {},
     "output_type": "execute_result"
    }
   ],
   "source": [
    "model1.save_weights('./weights/model1')\n",
    "model1.load_weights('./weights/model1')"
   ]
  },
  {
   "cell_type": "markdown",
   "metadata": {},
   "source": [
    "훈련시킨 model1의 계수를 저장한뒤에 저장된 계수를 다시 불러와서 model1에 덮어씌움. "
   ]
  },
  {
   "cell_type": "code",
   "execution_count": 58,
   "metadata": {},
   "outputs": [],
   "source": [
    "model1.save('my_model.h5')\n",
    "model2 = tf.keras.models.load_model('my_model.h5')"
   ]
  },
  {
   "cell_type": "markdown",
   "metadata": {},
   "source": [
    "훈련시킨 model1을 'my_model.h5'에 저장한뒤 그것을 model2에 load함. "
   ]
  },
  {
   "cell_type": "markdown",
   "metadata": {},
   "source": [
    "### 7. $X\\hat{\\beta}$ 구하기 /  Fitted value / Prediction "
   ]
  },
  {
   "cell_type": "code",
   "execution_count": 56,
   "metadata": {},
   "outputs": [
    {
     "data": {
      "text/html": [
       "<div>\n",
       "<style scoped>\n",
       "    .dataframe tbody tr th:only-of-type {\n",
       "        vertical-align: middle;\n",
       "    }\n",
       "\n",
       "    .dataframe tbody tr th {\n",
       "        vertical-align: top;\n",
       "    }\n",
       "\n",
       "    .dataframe thead th {\n",
       "        text-align: right;\n",
       "    }\n",
       "</style>\n",
       "<table border=\"1\" class=\"dataframe\">\n",
       "  <thead>\n",
       "    <tr style=\"text-align: right;\">\n",
       "      <th></th>\n",
       "      <th>0</th>\n",
       "      <th>1</th>\n",
       "      <th>2</th>\n",
       "      <th>3</th>\n",
       "      <th>4</th>\n",
       "      <th>5</th>\n",
       "      <th>6</th>\n",
       "      <th>7</th>\n",
       "      <th>8</th>\n",
       "      <th>9</th>\n",
       "    </tr>\n",
       "  </thead>\n",
       "  <tbody>\n",
       "    <tr>\n",
       "      <th>0</th>\n",
       "      <td>2.238571e-07</td>\n",
       "      <td>0.000027</td>\n",
       "      <td>6.653599e-07</td>\n",
       "      <td>0.009251</td>\n",
       "      <td>3.477206e-07</td>\n",
       "      <td>0.990458</td>\n",
       "      <td>0.000005</td>\n",
       "      <td>0.000001</td>\n",
       "      <td>0.000002</td>\n",
       "      <td>0.000254</td>\n",
       "    </tr>\n",
       "    <tr>\n",
       "      <th>1</th>\n",
       "      <td>0.000000e+00</td>\n",
       "      <td>0.000000</td>\n",
       "      <td>0.000000e+00</td>\n",
       "      <td>0.000000</td>\n",
       "      <td>0.000000e+00</td>\n",
       "      <td>1.000000</td>\n",
       "      <td>0.000000</td>\n",
       "      <td>0.000000</td>\n",
       "      <td>0.000000</td>\n",
       "      <td>0.000000</td>\n",
       "    </tr>\n",
       "  </tbody>\n",
       "</table>\n",
       "</div>"
      ],
      "text/plain": [
       "              0         1             2         3             4         5  \\\n",
       "0  2.238571e-07  0.000027  6.653599e-07  0.009251  3.477206e-07  0.990458   \n",
       "1  0.000000e+00  0.000000  0.000000e+00  0.000000  0.000000e+00  1.000000   \n",
       "\n",
       "          6         7         8         9  \n",
       "0  0.000005  0.000001  0.000002  0.000254  \n",
       "1  0.000000  0.000000  0.000000  0.000000  "
      ]
     },
     "execution_count": 56,
     "metadata": {},
     "output_type": "execute_result"
    }
   ],
   "source": [
    "Yhattrain=model2.predict(Xtrain)\n",
    "Yhattest=model2.predict(Xtest)\n",
    "pd.DataFrame(rbind(Yhattrain[0],Ytrain[0]))"
   ]
  },
  {
   "cell_type": "markdown",
   "metadata": {},
   "source": [
    "***모형을 평가하는 방법***"
   ]
  },
  {
   "cell_type": "code",
   "execution_count": 67,
   "metadata": {},
   "outputs": [
    {
     "name": "stdout",
     "output_type": "stream",
     "text": [
      "1875/1875 [==============================] - 2s 959us/step - loss: 0.1983 - accuracy: 0.9780\n",
      "313/313 [==============================] - 0s 1ms/step - loss: 0.2171 - accuracy: 0.9701\n",
      "0.19829893112182617 0.9779833555221558\n",
      "0.2171008586883545 0.9700999855995178\n"
     ]
    }
   ],
   "source": [
    "trainloss,trainacc = model2.evaluate(Xtrain,Ytrain)\n",
    "testloss,testacc = model2.evaluate(Xtest,Ytest)\n",
    "print(trainloss,trainacc)\n",
    "print(testloss,testacc)"
   ]
  }
 ],
 "metadata": {
  "kernelspec": {
   "display_name": "Python 3",
   "language": "python",
   "name": "python3"
  },
  "language_info": {
   "codemirror_mode": {
    "name": "ipython",
    "version": 3
   },
   "file_extension": ".py",
   "mimetype": "text/x-python",
   "name": "python",
   "nbconvert_exporter": "python",
   "pygments_lexer": "ipython3",
   "version": "3.8.5"
  }
 },
 "nbformat": 4,
 "nbformat_minor": 4
}
