{
 "cells": [
  {
   "cell_type": "code",
   "execution_count": 2,
   "metadata": {},
   "outputs": [
    {
     "name": "stdout",
     "output_type": "stream",
     "text": [
      "The rpy2.ipython extension is already loaded. To reload it, use:\n",
      "  %reload_ext rpy2.ipython\n",
      "GPU check 4 Keras: ['/job:localhost/replica:0/task:0/device:GPU:0']\n",
      "GPU check 4 Pytorch: GeForce RTX 2080 Ti\n"
     ]
    }
   ],
   "source": [
    "## 1. remove trash\n",
    "!rm -rf ~/.local/share/Trash/files/*\n",
    "\n",
    "## 2. load useful functions\n",
    "import requests\n",
    "exec(requests.get('http://miruetoto.github.io/my_code/dataHandling.py').text)\n",
    "\n",
    "## 3. for R user\n",
    "%load_ext rpy2.ipython\n",
    "%R library(devtools)\n",
    "\n",
    "## 4. plt\n",
    "import matplotlib as mpl \n",
    "import matplotlib.pyplot as plt \n",
    "Ipython_default=plt.rcParams.copy() # save initial value \n",
    "from matplotlib import cycler\n",
    "plt.rc('figure',dpi=150) # default value 4 figure.dpi is 72.0 \n",
    "# plt.rcParams.update(Ipython_default) # load initial value \n",
    "\n",
    "## 5. Check GPU\n",
    "from keras import backend as K\n",
    "print('GPU check 4 Keras: '+ str(K.tensorflow_backend._get_available_gpus()))\n",
    "import torch\n",
    "print('GPU check 4 Pytorch: '+ str(torch.cuda.get_device_name(0)))\n",
    "\n",
    "## 6. Project Setting\n",
    "#exec(requests.get('http://miruetoto.github.io/my_code/RF/RF.py').text)\n",
    "#%R source_url('http://miruetoto.github.io/my_code/RF/RF.r')"
   ]
  },
  {
   "cell_type": "code",
   "execution_count": 61,
   "metadata": {},
   "outputs": [],
   "source": [
    "import rpy2\n",
    "import rpy2.robjects as robjects\n",
    "from rpy2.robjects.vectors import StrVector"
   ]
  },
  {
   "cell_type": "code",
   "execution_count": 4,
   "metadata": {},
   "outputs": [],
   "source": [
    "### R에 설치된 패키지를 로드하는 방법\n",
    "import rpy2.robjects.packages as rpkg\n",
    "from rpy2.robjects.packages import importr as library\n",
    "base=library('base')\n",
    "utils=library('utils')"
   ]
  },
  {
   "cell_type": "code",
   "execution_count": 5,
   "metadata": {},
   "outputs": [],
   "source": [
    "### R에 패키지를 설치하는 방법\n",
    "utils.chooseCRANmirror(ind=1) # select the first mirror in the list \n",
    "packnames=('ggplot2','hexbin','ADMM')\n",
    "names_to_install = [x for x in packnames if not rpkg.isinstalled(x)]\n",
    "if len(names_to_install)>0:\n",
    "    utils.install_packages(StrVector(names_to_install))"
   ]
  },
  {
   "cell_type": "code",
   "execution_count": null,
   "metadata": {},
   "outputs": [],
   "source": []
  }
 ],
 "metadata": {
  "kernelspec": {
   "display_name": "Python 3",
   "language": "python",
   "name": "python3"
  },
  "language_info": {
   "codemirror_mode": {
    "name": "ipython",
    "version": 3
   },
   "file_extension": ".py",
   "mimetype": "text/x-python",
   "name": "python",
   "nbconvert_exporter": "python",
   "pygments_lexer": "ipython3",
   "version": "3.7.5"
  }
 },
 "nbformat": 4,
 "nbformat_minor": 4
}
