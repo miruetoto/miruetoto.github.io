{
 "cells": [
  {
   "cell_type": "code",
   "execution_count": 6,
   "metadata": {},
   "outputs": [
    {
     "name": "stderr",
     "output_type": "stream",
     "text": [
      "R[write to console]: Loading required package: usethis\n",
      "\n"
     ]
    }
   ],
   "source": [
    "## 1. remove trash\n",
    "!rm -rf ~/.local/share/Trash/files/*\n",
    "\n",
    "## 2. load useful functions\n",
    "import requests\n",
    "exec(requests.get('http://miruetoto.github.io/my_code/dataHandling.py').text)\n",
    "\n",
    "## 3. for R user\n",
    "%load_ext rpy2.ipython\n",
    "%R library(devtools)\n",
    "\n",
    "## 4. plt\n",
    "import matplotlib as mpl \n",
    "import matplotlib.pyplot as plt \n",
    "Ipython_default=plt.rcParams.copy() # save initial value \n",
    "from matplotlib import cycler\n",
    "plt.rc('figure',dpi=150) # default value 4 figure.dpi is 72.0 \n",
    "# plt.rcParams.update(Ipython_default) # load initial value \n",
    "\n",
    "## 5. Check GPU\n",
    "# from keras import backend as K\n",
    "# print('GPU check 4 Keras: '+ str(K.tensorflow_backend._get_available_gpus()))\n",
    "# import torch\n",
    "# print('GPU check 4 Pytorch: '+ str(torch.cuda.get_device_name(0)))\n",
    "\n",
    "## 6. Project Setting\n",
    "#exec(requests.get('http://miruetoto.github.io/my_code/RF/RF.py').text)\n",
    "#%R source_url('http://miruetoto.github.io/my_code/RF/RF.r')"
   ]
  },
  {
   "cell_type": "code",
   "execution_count": 7,
   "metadata": {},
   "outputs": [],
   "source": [
    "import rpy2\n",
    "import rpy2.robjects as ro\n",
    "\n",
    "### R에 설치된 패키지를 로드하는 방법\n",
    "import rpy2.robjects.packages as rpkg\n",
    "from rpy2.robjects.packages import importr as library\n",
    "### R에 패키지를 설치하는 방법\n",
    "from rpy2.robjects.vectors import StrVector as s2r"
   ]
  },
  {
   "cell_type": "code",
   "execution_count": 4,
   "metadata": {},
   "outputs": [],
   "source": [
    "### R환경에 패키지를 로드하는 방법"
   ]
  },
  {
   "cell_type": "code",
   "execution_count": 8,
   "metadata": {},
   "outputs": [
    {
     "data": {
      "text/plain": [
       "rpy2.robjects.packages.Package as a <module 'ggplot2'>"
      ]
     },
     "execution_count": 8,
     "metadata": {},
     "output_type": "execute_result"
    }
   ],
   "source": [
    "import rpy2.robjects.packages as rpkg\n",
    "from rpy2.robjects.packages import importr as library\n",
    "library('ggplot2')"
   ]
  },
  {
   "cell_type": "code",
   "execution_count": 9,
   "metadata": {},
   "outputs": [],
   "source": [
    "### R환경에 설치된 패키지를 로드하여 파이썬환경에 저장\n",
    "import rpy2.robjects.packages as rpkg\n",
    "from rpy2.robjects.packages import importr as library\n",
    "utils=library('utils')"
   ]
  },
  {
   "cell_type": "code",
   "execution_count": 10,
   "metadata": {},
   "outputs": [],
   "source": [
    "### R에 패키지를 설치하는 방법\n",
    "from rpy2.robjects.vectors import StrVector as s2r\n",
    "utils.chooseCRANmirror(ind=1) # select the first mirror in the list \n",
    "packnames=('ggplot2','hexbin','ADMM')\n",
    "names_to_install = [x for x in packnames if not rpkg.isinstalled(x)]\n",
    "if len(names_to_install)>0:\n",
    "    utils.install_packages(s2r(names_to_install))\n",
    "    \n",
    "## 더 쉬운방법\n",
    "r('install.packages')(\"dplyr\")"
   ]
  },
  {
   "cell_type": "code",
   "execution_count": 11,
   "metadata": {},
   "outputs": [
    {
     "data": {
      "text/html": [
       "\n",
       "        <span>IntVector with 3 elements.</span>\n",
       "        <table>\n",
       "        <tbody>\n",
       "          <tr>\n",
       "          \n",
       "            <td>\n",
       "            1\n",
       "            </td>\n",
       "          \n",
       "            <td>\n",
       "            2\n",
       "            </td>\n",
       "          \n",
       "            <td>\n",
       "            3\n",
       "            </td>\n",
       "          \n",
       "          </tr>\n",
       "        </tbody>\n",
       "        </table>\n",
       "        "
      ],
      "text/plain": [
       "R object with classes: ('RTYPES.INTSXP',) mapped to:\n",
       "[1, 2, 3]"
      ]
     },
     "execution_count": 11,
     "metadata": {},
     "output_type": "execute_result"
    }
   ],
   "source": [
    "### R코드구현법 \n",
    "r=ro.r\n",
    "# ex1 \n",
    "r['pi'] \n",
    "r('pi') \n",
    "r.pi\n",
    "\n",
    "# ex2\n",
    "r['rnorm'](100)\n",
    "r('rnorm')(100)\n",
    "r.rnorm(100)\n",
    "\n",
    "# ex3 \n",
    "r['c'](1,2,3)\n",
    "r('c')(1,2,3)\n",
    "r.c(1,2,3)"
   ]
  },
  {
   "cell_type": "code",
   "execution_count": 87,
   "metadata": {},
   "outputs": [],
   "source": [
    "### covert Python array to R vector\n",
    "#from rpy2.robjects.vectors import BoolVector\n",
    "#from rpy2.robjects.vectors import IntVector \n",
    "from rpy2.robjects.vectors import FloatVector \n",
    "from rpy2.robjects.vectors import StrVector as s2r\n",
    "#from rpy2.robjects.vectors import ListVector \n",
    "#from rpy2.robjects.vectors import POSIXlt \n",
    "#from rpy2.robjects.vectors import POSIXct \n",
    "\n",
    "def a2r(a):\n",
    "    if type(a) in {float,int,bool}: a=[a]\n",
    "    a=list(a)\n",
    "    rtn=FloatVector(a)\n",
    "    return rtn\n",
    "\n",
    "def r2m(A):\n",
    "    return np.matrix(A)\n",
    "\n",
    "def r2a(a):\n",
    "    return list(a)"
   ]
  },
  {
   "cell_type": "code",
   "execution_count": 13,
   "metadata": {},
   "outputs": [
    {
     "data": {
      "text/html": [
       "\n",
       "        <span>FloatVector with 3 elements.</span>\n",
       "        <table>\n",
       "        <tbody>\n",
       "          <tr>\n",
       "          \n",
       "            <td>\n",
       "            10.000000\n",
       "            </td>\n",
       "          \n",
       "            <td>\n",
       "            17.000000\n",
       "            </td>\n",
       "          \n",
       "            <td>\n",
       "            26.000000\n",
       "            </td>\n",
       "          \n",
       "          </tr>\n",
       "        </tbody>\n",
       "        </table>\n",
       "        "
      ],
      "text/plain": [
       "R object with classes: ('numeric',) mapped to:\n",
       "[10.000000, 17.000000, 26.000000]"
      ]
     },
     "execution_count": 13,
     "metadata": {},
     "output_type": "execute_result"
    }
   ],
   "source": [
    "### R환경에 함수정의하기\n",
    "r(''' my_fun<-function(x) x^2+1''')\n",
    "r['my_fun'](a2r([3,4,5]))\n",
    "r('my_fun')(a2r([3,4,5]))\n",
    "r.my_fun(a2r([3,4,5])) \n",
    "## 얼핏보면 이게 젤 쉬워보이지만 R함수이름에 .이 포함되면 사용할 수 없다는 단점이 있다. "
   ]
  },
  {
   "cell_type": "code",
   "execution_count": 14,
   "metadata": {},
   "outputs": [
    {
     "data": {
      "text/plain": [
       "[10.0, 17.0, 26.0]"
      ]
     },
     "execution_count": 14,
     "metadata": {},
     "output_type": "execute_result"
    }
   ],
   "source": [
    "### R환경에서 정의한 함수를 마치 파이썬환경에서 정의한 함수처럼 쓰기 \n",
    "r(''' my_fun<-function(x) x^2+1''')\n",
    "my_fun_py_temp=r.my_fun\n",
    "def my_fun_py(a):\n",
    "    a2r(a)\n",
    "    rtn=r2a(my_fun_py_temp(a2r(a)))\n",
    "    return rtn\n",
    "my_fun_py([3,4,5])"
   ]
  },
  {
   "cell_type": "code",
   "execution_count": 17,
   "metadata": {},
   "outputs": [],
   "source": [
    "### rhelp\n",
    "def rhelp(name):\n",
    "    print(str(utils.help(name)))"
   ]
  },
  {
   "cell_type": "code",
   "execution_count": 126,
   "metadata": {},
   "outputs": [
    {
     "name": "stderr",
     "output_type": "stream",
     "text": [
      "R[write to console]: Error in FUN(X[[i]], ...) : object 'area_total_km2' not found\n",
      "Calls: <Anonymous> ... <Anonymous> -> f -> scales_add_defaults -> lapply -> FUN\n",
      "\n"
     ]
    },
    {
     "ename": "RRuntimeError",
     "evalue": "Error in FUN(X[[i]], ...) : object 'area_total_km2' not found\nCalls: <Anonymous> ... <Anonymous> -> f -> scales_add_defaults -> lapply -> FUN\n",
     "output_type": "error",
     "traceback": [
      "\u001b[0;31m---------------------------------------------------------------------------\u001b[0m",
      "\u001b[0;31mRRuntimeError\u001b[0m                             Traceback (most recent call last)",
      "\u001b[0;32m<ipython-input-126-1c2e81bf5434>\u001b[0m in \u001b[0;36m<module>\u001b[0;34m\u001b[0m\n\u001b[1;32m      8\u001b[0m      gp.scale_color_continuous(trans='log10'))\n\u001b[1;32m      9\u001b[0m \u001b[0;32mfrom\u001b[0m \u001b[0mrpy2\u001b[0m\u001b[0;34m.\u001b[0m\u001b[0mipython\u001b[0m\u001b[0;34m.\u001b[0m\u001b[0mggplot\u001b[0m \u001b[0;32mimport\u001b[0m \u001b[0mimage_png\u001b[0m\u001b[0;34m\u001b[0m\u001b[0;34m\u001b[0m\u001b[0m\n\u001b[0;32m---> 10\u001b[0;31m \u001b[0mimage_png\u001b[0m\u001b[0;34m(\u001b[0m\u001b[0mp\u001b[0m\u001b[0;34m)\u001b[0m\u001b[0;34m\u001b[0m\u001b[0;34m\u001b[0m\u001b[0m\n\u001b[0m",
      "\u001b[0;32m~/anaconda3/envs/py20190129/lib/python3.6/site-packages/rpy2/ipython/ggplot.py\u001b[0m in \u001b[0;36mimage_png\u001b[0;34m(gg, width, height)\u001b[0m\n\u001b[1;32m     36\u001b[0m                                      \u001b[0mheight\u001b[0m\u001b[0;34m=\u001b[0m\u001b[0mheight\u001b[0m\u001b[0;34m,\u001b[0m\u001b[0;34m\u001b[0m\u001b[0;34m\u001b[0m\u001b[0m\n\u001b[1;32m     37\u001b[0m                                      antialias=\"subpixel\") as b:\n\u001b[0;32m---> 38\u001b[0;31m         \u001b[0mrobjects\u001b[0m\u001b[0;34m.\u001b[0m\u001b[0mr\u001b[0m\u001b[0;34m(\u001b[0m\u001b[0;34m\"print\"\u001b[0m\u001b[0;34m)\u001b[0m\u001b[0;34m(\u001b[0m\u001b[0mgg\u001b[0m\u001b[0;34m)\u001b[0m\u001b[0;34m\u001b[0m\u001b[0;34m\u001b[0m\u001b[0m\n\u001b[0m\u001b[1;32m     39\u001b[0m     \u001b[0mdata\u001b[0m \u001b[0;34m=\u001b[0m \u001b[0mb\u001b[0m\u001b[0;34m.\u001b[0m\u001b[0mgetvalue\u001b[0m\u001b[0;34m(\u001b[0m\u001b[0;34m)\u001b[0m\u001b[0;34m\u001b[0m\u001b[0;34m\u001b[0m\u001b[0m\n\u001b[1;32m     40\u001b[0m     \u001b[0mip_img\u001b[0m \u001b[0;34m=\u001b[0m \u001b[0mImage\u001b[0m\u001b[0;34m(\u001b[0m\u001b[0mdata\u001b[0m\u001b[0;34m=\u001b[0m\u001b[0mdata\u001b[0m\u001b[0;34m,\u001b[0m \u001b[0mformat\u001b[0m\u001b[0;34m=\u001b[0m\u001b[0;34m'png'\u001b[0m\u001b[0;34m,\u001b[0m \u001b[0membed\u001b[0m\u001b[0;34m=\u001b[0m\u001b[0;32mTrue\u001b[0m\u001b[0;34m)\u001b[0m\u001b[0;34m\u001b[0m\u001b[0;34m\u001b[0m\u001b[0m\n",
      "\u001b[0;32m~/anaconda3/envs/py20190129/lib/python3.6/site-packages/rpy2/robjects/functions.py\u001b[0m in \u001b[0;36m__call__\u001b[0;34m(self, *args, **kwargs)\u001b[0m\n\u001b[1;32m    190\u001b[0m                 \u001b[0mkwargs\u001b[0m\u001b[0;34m[\u001b[0m\u001b[0mr_k\u001b[0m\u001b[0;34m]\u001b[0m \u001b[0;34m=\u001b[0m \u001b[0mv\u001b[0m\u001b[0;34m\u001b[0m\u001b[0;34m\u001b[0m\u001b[0m\n\u001b[1;32m    191\u001b[0m         return (super(SignatureTranslatedFunction, self)\n\u001b[0;32m--> 192\u001b[0;31m                 .__call__(*args, **kwargs))\n\u001b[0m\u001b[1;32m    193\u001b[0m \u001b[0;34m\u001b[0m\u001b[0m\n\u001b[1;32m    194\u001b[0m \u001b[0;34m\u001b[0m\u001b[0m\n",
      "\u001b[0;32m~/anaconda3/envs/py20190129/lib/python3.6/site-packages/rpy2/robjects/functions.py\u001b[0m in \u001b[0;36m__call__\u001b[0;34m(self, *args, **kwargs)\u001b[0m\n\u001b[1;32m    119\u001b[0m             \u001b[0;32melse\u001b[0m\u001b[0;34m:\u001b[0m\u001b[0;34m\u001b[0m\u001b[0;34m\u001b[0m\u001b[0m\n\u001b[1;32m    120\u001b[0m                 \u001b[0mnew_kwargs\u001b[0m\u001b[0;34m[\u001b[0m\u001b[0mk\u001b[0m\u001b[0;34m]\u001b[0m \u001b[0;34m=\u001b[0m \u001b[0mconversion\u001b[0m\u001b[0;34m.\u001b[0m\u001b[0mpy2rpy\u001b[0m\u001b[0;34m(\u001b[0m\u001b[0mv\u001b[0m\u001b[0;34m)\u001b[0m\u001b[0;34m\u001b[0m\u001b[0;34m\u001b[0m\u001b[0m\n\u001b[0;32m--> 121\u001b[0;31m         \u001b[0mres\u001b[0m \u001b[0;34m=\u001b[0m \u001b[0msuper\u001b[0m\u001b[0;34m(\u001b[0m\u001b[0mFunction\u001b[0m\u001b[0;34m,\u001b[0m \u001b[0mself\u001b[0m\u001b[0;34m)\u001b[0m\u001b[0;34m.\u001b[0m\u001b[0m__call__\u001b[0m\u001b[0;34m(\u001b[0m\u001b[0;34m*\u001b[0m\u001b[0mnew_args\u001b[0m\u001b[0;34m,\u001b[0m \u001b[0;34m**\u001b[0m\u001b[0mnew_kwargs\u001b[0m\u001b[0;34m)\u001b[0m\u001b[0;34m\u001b[0m\u001b[0;34m\u001b[0m\u001b[0m\n\u001b[0m\u001b[1;32m    122\u001b[0m         \u001b[0mres\u001b[0m \u001b[0;34m=\u001b[0m \u001b[0mconversion\u001b[0m\u001b[0;34m.\u001b[0m\u001b[0mrpy2py\u001b[0m\u001b[0;34m(\u001b[0m\u001b[0mres\u001b[0m\u001b[0;34m)\u001b[0m\u001b[0;34m\u001b[0m\u001b[0;34m\u001b[0m\u001b[0m\n\u001b[1;32m    123\u001b[0m         \u001b[0;32mreturn\u001b[0m \u001b[0mres\u001b[0m\u001b[0;34m\u001b[0m\u001b[0;34m\u001b[0m\u001b[0m\n",
      "\u001b[0;32m~/anaconda3/envs/py20190129/lib/python3.6/site-packages/rpy2/rinterface_lib/conversion.py\u001b[0m in \u001b[0;36m_\u001b[0;34m(*args, **kwargs)\u001b[0m\n\u001b[1;32m     38\u001b[0m \u001b[0;32mdef\u001b[0m \u001b[0m_cdata_res_to_rinterface\u001b[0m\u001b[0;34m(\u001b[0m\u001b[0mfunction\u001b[0m\u001b[0;34m)\u001b[0m\u001b[0;34m:\u001b[0m\u001b[0;34m\u001b[0m\u001b[0;34m\u001b[0m\u001b[0m\n\u001b[1;32m     39\u001b[0m     \u001b[0;32mdef\u001b[0m \u001b[0m_\u001b[0m\u001b[0;34m(\u001b[0m\u001b[0;34m*\u001b[0m\u001b[0margs\u001b[0m\u001b[0;34m,\u001b[0m \u001b[0;34m**\u001b[0m\u001b[0mkwargs\u001b[0m\u001b[0;34m)\u001b[0m\u001b[0;34m:\u001b[0m\u001b[0;34m\u001b[0m\u001b[0;34m\u001b[0m\u001b[0m\n\u001b[0;32m---> 40\u001b[0;31m         \u001b[0mcdata\u001b[0m \u001b[0;34m=\u001b[0m \u001b[0mfunction\u001b[0m\u001b[0;34m(\u001b[0m\u001b[0;34m*\u001b[0m\u001b[0margs\u001b[0m\u001b[0;34m,\u001b[0m \u001b[0;34m**\u001b[0m\u001b[0mkwargs\u001b[0m\u001b[0;34m)\u001b[0m\u001b[0;34m\u001b[0m\u001b[0;34m\u001b[0m\u001b[0m\n\u001b[0m\u001b[1;32m     41\u001b[0m         \u001b[0;31m# TODO: test cdata is of the expected CType\u001b[0m\u001b[0;34m\u001b[0m\u001b[0;34m\u001b[0m\u001b[0;34m\u001b[0m\u001b[0m\n\u001b[1;32m     42\u001b[0m         \u001b[0;32mreturn\u001b[0m \u001b[0m_cdata_to_rinterface\u001b[0m\u001b[0;34m(\u001b[0m\u001b[0mcdata\u001b[0m\u001b[0;34m)\u001b[0m\u001b[0;34m\u001b[0m\u001b[0;34m\u001b[0m\u001b[0m\n",
      "\u001b[0;32m~/anaconda3/envs/py20190129/lib/python3.6/site-packages/rpy2/rinterface.py\u001b[0m in \u001b[0;36m__call__\u001b[0;34m(self, *args, **kwargs)\u001b[0m\n\u001b[1;32m    787\u001b[0m                     error_occured))\n\u001b[1;32m    788\u001b[0m             \u001b[0;32mif\u001b[0m \u001b[0merror_occured\u001b[0m\u001b[0;34m[\u001b[0m\u001b[0;36m0\u001b[0m\u001b[0;34m]\u001b[0m\u001b[0;34m:\u001b[0m\u001b[0;34m\u001b[0m\u001b[0;34m\u001b[0m\u001b[0m\n\u001b[0;32m--> 789\u001b[0;31m                 \u001b[0;32mraise\u001b[0m \u001b[0membedded\u001b[0m\u001b[0;34m.\u001b[0m\u001b[0mRRuntimeError\u001b[0m\u001b[0;34m(\u001b[0m\u001b[0m_rinterface\u001b[0m\u001b[0;34m.\u001b[0m\u001b[0m_geterrmessage\u001b[0m\u001b[0;34m(\u001b[0m\u001b[0;34m)\u001b[0m\u001b[0;34m)\u001b[0m\u001b[0;34m\u001b[0m\u001b[0;34m\u001b[0m\u001b[0m\n\u001b[0m\u001b[1;32m    790\u001b[0m         \u001b[0;32mreturn\u001b[0m \u001b[0mres\u001b[0m\u001b[0;34m\u001b[0m\u001b[0;34m\u001b[0m\u001b[0m\n\u001b[1;32m    791\u001b[0m \u001b[0;34m\u001b[0m\u001b[0m\n",
      "\u001b[0;31mRRuntimeError\u001b[0m: Error in FUN(X[[i]], ...) : object 'area_total_km2' not found\nCalls: <Anonymous> ... <Anonymous> -> f -> scales_add_defaults -> lapply -> FUN\n"
     ]
    }
   ],
   "source": [
    "import rpy2.robjects.lib.ggplot2 as gp\n",
    "p = (gp.ggplot(dataf) +\n",
    "     gp.aes_string(x='longd',\n",
    "                   y='latd',\n",
    "                   color='population_total',\n",
    "                   size='area_total_km2') +\n",
    "     gp.geom_point() +\n",
    "     gp.scale_color_continuous(trans='log10'))\n",
    "from rpy2.ipython.ggplot import image_png\n",
    "image_png(p)"
   ]
  },
  {
   "cell_type": "code",
   "execution_count": 64,
   "metadata": {},
   "outputs": [
    {
     "name": "stdout",
     "output_type": "stream",
     "text": [
      "Observations: 482\n",
      "Variables: 14\n",
      "$ X                  \u001b[3m\u001b[90m<int>\u001b[39m\u001b[23m 0, 1, 2, 3, 4, 5, 6, 7, 8, 9, 10, 11, 12, 13, 14, …\n",
      "$ city               \u001b[3m\u001b[90m<fct>\u001b[39m\u001b[23m Adelanto, AgouraHills, Alameda, Albany, Alhambra, …\n",
      "$ latd               \u001b[3m\u001b[90m<dbl>\u001b[39m\u001b[23m 34.57611, 34.15333, 37.75611, 37.88694, 34.08194, …\n",
      "$ longd              \u001b[3m\u001b[90m<dbl>\u001b[39m\u001b[23m -117.4328, -118.7617, -122.2744, -122.2978, -118.1…\n",
      "$ elevation_m        \u001b[3m\u001b[90m<dbl>\u001b[39m\u001b[23m 875, 281, NA, NA, 150, 127, 1332, 280, 14, 48, 132…\n",
      "$ elevation_ft       \u001b[3m\u001b[90m<dbl>\u001b[39m\u001b[23m 2871, 922, 33, 43, 492, 417, 4370, 919, 46, 157, 4…\n",
      "$ population_total   \u001b[3m\u001b[90m<int>\u001b[39m\u001b[23m 31765, 20330, 75467, 18969, 83089, 47823, 2827, 18…\n",
      "$ area_total_sq_mi   \u001b[3m\u001b[90m<dbl>\u001b[39m\u001b[23m 56.027, 7.822, 22.960, 5.465, 7.632, 7.472, 2.449,…\n",
      "$ area_land_sq_mi    \u001b[3m\u001b[90m<dbl>\u001b[39m\u001b[23m 56.009, 7.793, 10.611, 1.788, 7.631, 7.472, 2.435,…\n",
      "$ area_water_sq_mi   \u001b[3m\u001b[90m<dbl>\u001b[39m\u001b[23m 0.018, 0.029, 12.349, 3.677, 0.001, 0.000, 0.014, …\n",
      "$ area_total_km2     \u001b[3m\u001b[90m<dbl>\u001b[39m\u001b[23m 145.107, 20.260, 59.465, 14.155, 19.766, 19.352, 6…\n",
      "$ area_land_km2      \u001b[3m\u001b[90m<dbl>\u001b[39m\u001b[23m 145.062, 20.184, 27.482, 4.632, 19.763, 19.352, 6.…\n",
      "$ area_water_km2     \u001b[3m\u001b[90m<dbl>\u001b[39m\u001b[23m 0.046, 0.076, 31.983, 9.524, 0.003, 0.000, 0.036, …\n",
      "$ area_water_percent \u001b[3m\u001b[90m<dbl>\u001b[39m\u001b[23m 0.03, 0.37, 53.79, 67.28, 0.01, 0.00, 0.57, 0.00, …\n"
     ]
    }
   ],
   "source": [
    "%%R -i dataf\n",
    "glimpse(dataf)"
   ]
  },
  {
   "cell_type": "code",
   "execution_count": 72,
   "metadata": {},
   "outputs": [
    {
     "data": {
      "text/html": [
       "\n",
       "<emph>DataFrame</emph> with 10 rows and\n",
       "  2 columns:\n",
       "<table class=\"docutils\">\n",
       "  <thead>\n",
       "    <tr class=\"rpy2_names\">\n",
       "      <th></th>\n",
       "      <th></th>\n",
       "      <th>X1</th>\n",
       "      <th>X2</th>\n",
       "    </tr>\n",
       "  </thead>\n",
       "  <tbody>\n",
       "    <tr>\n",
       "      <td class=\"rpy2_rowname\">0</td>\n",
       "        <td class=\"rpy2_names\">0</td>\n",
       "      <td>0.30948696396859027</td>\n",
       "      <td>-1.3003679911249875</td>\n",
       "    </tr>\n",
       "    <tr>\n",
       "      <td class=\"rpy2_rowname\">1</td>\n",
       "        <td class=\"rpy2_names\">1</td>\n",
       "      <td>2.179094797933573</td>\n",
       "      <td>-0.15388125720976212</td>\n",
       "    </tr>\n",
       "    <tr>\n",
       "      <td class=\"rpy2_rowname\">2</td>\n",
       "        <td class=\"rpy2_names\">2</td>\n",
       "      <td>1.3133068108303987</td>\n",
       "      <td>-1.3738914255522676</td>\n",
       "    </tr>\n",
       "    <tr>\n",
       "      <td class=\"rpy2_rowname\">3</td>\n",
       "        <td class=\"rpy2_names\">3</td>\n",
       "      <td>0.5639021944992869</td>\n",
       "      <td>-0.2548908063412727</td>\n",
       "    </tr>\n",
       "    <tr>\n",
       "      <td class=\"rpy2_rowname\">4</td>\n",
       "        <td class=\"rpy2_names\">4</td>\n",
       "      <td>0.458441953686883</td>\n",
       "      <td>0.5930643099511594</td>\n",
       "    </tr>\n",
       "    <tr>\n",
       "      <td class=\"rpy2_rowname\">5</td>\n",
       "        <td class=\"rpy2_names\">5</td>\n",
       "      <td>-0.057370892169600146</td>\n",
       "      <td>-0.8148186541046728</td>\n",
       "    </tr>\n",
       "    <tr>\n",
       "      <td class=\"rpy2_rowname\">6</td>\n",
       "        <td class=\"rpy2_names\">6</td>\n",
       "      <td>-0.1768474636923642</td>\n",
       "      <td>0.5900120881019817</td>\n",
       "    </tr>\n",
       "    <tr>\n",
       "      <td class=\"rpy2_rowname\">7</td>\n",
       "        <td class=\"rpy2_names\">7</td>\n",
       "      <td>0.03384915299220386</td>\n",
       "      <td>0.4010390148059009</td>\n",
       "    </tr>\n",
       "    <tr>\n",
       "      <td class=\"rpy2_rowname\">8</td>\n",
       "        <td class=\"rpy2_names\">8</td>\n",
       "      <td>-1.3992001266270944</td>\n",
       "      <td>0.9090616914866324</td>\n",
       "    </tr>\n",
       "    <tr>\n",
       "      <td class=\"rpy2_rowname\">9</td>\n",
       "        <td class=\"rpy2_names\">9</td>\n",
       "      <td>-0.6739124527678069</td>\n",
       "      <td>1.0352745189533141</td>\n",
       "    </tr>\n",
       "  </tbody>\n",
       "</table>"
      ],
      "text/plain": [
       "R object with classes: ('data.frame',) mapped to:\n",
       "[FloatSexpVector, FloatSexpVector]\n",
       "  X1: <class 'rpy2.rinterface.FloatSexpVector'>\n",
       "  <rpy2.rinterface.FloatSexpVector object at 0x7ff1e9cdfc48> [RTYPES.REALSXP]\n",
       "  X2: <class 'rpy2.rinterface.FloatSexpVector'>\n",
       "  <rpy2.rinterface.FloatSexpVector object at 0x7ff1e9cdf8c8> [RTYPES.REALSXP]"
      ]
     },
     "execution_count": 72,
     "metadata": {},
     "output_type": "execute_result"
    }
   ],
   "source": [
    "import pandas as pd\n",
    "import rpy2.robjects as ro\n",
    "from rpy2.robjects.packages import importr\n",
    "from rpy2.robjects import pandas2ri\n",
    "from rpy2.robjects.conversion import localconverter\n",
    "\n",
    "with localconverter(ro.default_converter + pandas2ri.converter):\n",
    "    Adf = ro.conversion.py2rpy(Apd)\n",
    "\n",
    "Adf"
   ]
  },
  {
   "cell_type": "code",
   "execution_count": 76,
   "metadata": {},
   "outputs": [],
   "source": [
    "%R -i Apd"
   ]
  },
  {
   "cell_type": "code",
   "execution_count": 86,
   "metadata": {},
   "outputs": [
    {
     "name": "stdout",
     "output_type": "stream",
     "text": [
      "[1] \"value\"  \"letter\"\n",
      "\n"
     ]
    }
   ],
   "source": [
    "import rpy2.rlike.container as rlc\n",
    "od = rlc.OrdDict([('value', robjects.IntVector((1,2,3))),\n",
    "                      ('letter', robjects.StrVector(('x', 'y', 'z')))])\n",
    "dataf = robjects.DataFrame(od)\n",
    "print(dataf.colnames)"
   ]
  },
  {
   "cell_type": "code",
   "execution_count": null,
   "metadata": {},
   "outputs": [],
   "source": []
  }
 ],
 "metadata": {
  "kernelspec": {
   "display_name": "Python 3",
   "language": "python",
   "name": "python3"
  },
  "language_info": {
   "codemirror_mode": {
    "name": "ipython",
    "version": 3
   },
   "file_extension": ".py",
   "mimetype": "text/x-python",
   "name": "python",
   "nbconvert_exporter": "python",
   "pygments_lexer": "ipython3",
   "version": "3.6.7"
  }
 },
 "nbformat": 4,
 "nbformat_minor": 4
}
