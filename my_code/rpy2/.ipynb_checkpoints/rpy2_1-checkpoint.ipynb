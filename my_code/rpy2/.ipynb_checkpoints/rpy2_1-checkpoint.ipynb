{
 "cells": [
  {
   "cell_type": "code",
   "execution_count": 135,
   "metadata": {},
   "outputs": [
    {
     "name": "stdout",
     "output_type": "stream",
     "text": [
      "The rpy2.ipython extension is already loaded. To reload it, use:\n",
      "  %reload_ext rpy2.ipython\n"
     ]
    }
   ],
   "source": [
    "## 1. remove trash\n",
    "!rm -rf ~/.local/share/Trash/files/*\n",
    "\n",
    "## 2. load useful functions\n",
    "import requests\n",
    "exec(requests.get('http://miruetoto.github.io/my_code/dataHandling.py').text)\n",
    "\n",
    "## 3. for R user\n",
    "%load_ext rpy2.ipython\n",
    "%R library(devtools)\n",
    "\n",
    "## 4. plt\n",
    "import matplotlib as mpl \n",
    "import matplotlib.pyplot as plt \n",
    "Ipython_default=plt.rcParams.copy() # save initial value \n",
    "from matplotlib import cycler\n",
    "plt.rc('figure',dpi=150) # default value 4 figure.dpi is 72.0 \n",
    "# plt.rcParams.update(Ipython_default) # load initial value \n",
    "\n",
    "## 5. Check GPU\n",
    "# from keras import backend as K\n",
    "# print('GPU check 4 Keras: '+ str(K.tensorflow_backend._get_available_gpus()))\n",
    "# import torch\n",
    "# print('GPU check 4 Pytorch: '+ str(torch.cuda.get_device_name(0)))\n",
    "\n",
    "## 6. Project Setting\n",
    "#exec(requests.get('http://miruetoto.github.io/my_code/RF/RF.py').text)\n",
    "#%R source_url('http://miruetoto.github.io/my_code/RF/RF.r')"
   ]
  },
  {
   "cell_type": "code",
   "execution_count": 6,
   "metadata": {},
   "outputs": [],
   "source": [
    "import rpy2\n",
    "import rpy2.robjects as ro\n",
    "\n",
    "### R에 설치된 패키지를 로드하는 방법\n",
    "import rpy2.robjects.packages as rpkg\n",
    "from rpy2.robjects.packages import importr as library\n",
    "### R에 패키지를 설치하는 방법\n",
    "from rpy2.robjects.vectors import StrVector as s2r"
   ]
  },
  {
   "cell_type": "code",
   "execution_count": 4,
   "metadata": {},
   "outputs": [],
   "source": [
    "### R환경에 패키지를 로드하는 방법"
   ]
  },
  {
   "cell_type": "code",
   "execution_count": 7,
   "metadata": {},
   "outputs": [],
   "source": [
    "# %%R \n",
    "# ?ggplot"
   ]
  },
  {
   "cell_type": "code",
   "execution_count": 9,
   "metadata": {},
   "outputs": [
    {
     "data": {
      "text/plain": [
       "rpy2.robjects.packages.Package as a <module 'ggplot2'>"
      ]
     },
     "execution_count": 9,
     "metadata": {},
     "output_type": "execute_result"
    }
   ],
   "source": [
    "import rpy2.robjects.packages as rpkg\n",
    "from rpy2.robjects.packages import importr as library\n",
    "library('ggplot2')"
   ]
  },
  {
   "cell_type": "code",
   "execution_count": 8,
   "metadata": {},
   "outputs": [],
   "source": [
    "# %%R \n",
    "# ?ggplot"
   ]
  },
  {
   "cell_type": "code",
   "execution_count": 10,
   "metadata": {},
   "outputs": [],
   "source": [
    "### R환경에 설치된 패키지를 로드하여 파이썬환경에 저장\n",
    "import rpy2.robjects.packages as rpkg\n",
    "from rpy2.robjects.packages import importr as library\n",
    "base=library('base')\n",
    "utils=library('utils')"
   ]
  },
  {
   "cell_type": "code",
   "execution_count": 11,
   "metadata": {},
   "outputs": [],
   "source": [
    "### R에 패키지를 설치하는 방법\n",
    "from rpy2.robjects.vectors import StrVector as s2r\n",
    "utils.chooseCRANmirror(ind=1) # select the first mirror in the list \n",
    "packnames=('ggplot2','hexbin','ADMM')\n",
    "names_to_install = [x for x in packnames if not rpkg.isinstalled(x)]\n",
    "if len(names_to_install)>0:\n",
    "    utils.install_packages(s2r(names_to_install))"
   ]
  },
  {
   "cell_type": "code",
   "execution_count": 12,
   "metadata": {},
   "outputs": [
    {
     "data": {
      "text/html": [
       "\n",
       "        <span>IntVector with 3 elements.</span>\n",
       "        <table>\n",
       "        <tbody>\n",
       "          <tr>\n",
       "          \n",
       "            <td>\n",
       "            1\n",
       "            </td>\n",
       "          \n",
       "            <td>\n",
       "            2\n",
       "            </td>\n",
       "          \n",
       "            <td>\n",
       "            3\n",
       "            </td>\n",
       "          \n",
       "          </tr>\n",
       "        </tbody>\n",
       "        </table>\n",
       "        "
      ],
      "text/plain": [
       "R object with classes: ('RTYPES.INTSXP',) mapped to:\n",
       "[1, 2, 3]"
      ]
     },
     "execution_count": 12,
     "metadata": {},
     "output_type": "execute_result"
    }
   ],
   "source": [
    "### R코드구현법 \n",
    "r=ro.r\n",
    "# ex1 \n",
    "r('pi') \n",
    "r['pi'] \n",
    "r.pi\n",
    "\n",
    "# ex2\n",
    "r('rnorm')(100)\n",
    "r['rnorm'](100)\n",
    "r.rnorm(100)\n",
    "\n",
    "# ex3 \n",
    "r('c')(1,2,3)\n",
    "r['c'](1,2,3)\n",
    "r.c(1,2,3)"
   ]
  },
  {
   "cell_type": "code",
   "execution_count": 528,
   "metadata": {},
   "outputs": [],
   "source": [
    "### covert Python array to R vector\n",
    "#from rpy2.robjects.vectors import BoolVector\n",
    "#from rpy2.robjects.vectors import IntVector \n",
    "from rpy2.robjects.vectors import FloatVector \n",
    "from rpy2.robjects.vectors import StrVector as s2r_temp\n",
    "#from rpy2.robjects.vectors import ListVector \n",
    "#from rpy2.robjects.vectors import POSIXlt \n",
    "#from rpy2.robjects.vectors import POSIXct \n",
    "def a2r_temp(a):\n",
    "    if type(a) in {float,int,bool}: a=[a]\n",
    "    a=list(a)\n",
    "    rtn=FloatVector(a)\n",
    "    return rtn\n",
    "\n",
    "def r2a_temp(a):\n",
    "    return list(a)\n",
    "\n",
    "def m2r_temp(A):\n",
    "    Acopy=A.copy()\n",
    "    nrow=Acopy.shape[0]\n",
    "    Acopy.shape=(np.prod(Acopy.shape),1)\n",
    "    rtn=r.matrix(a2r(m2a(Acopy)),nrow=nrow)\n",
    "    del(Acopy)\n",
    "    ro.globalenv['A']=rtn\n",
    "    return rtn\n",
    "\n",
    "def r2m_temp(A):\n",
    "    return np.matrix(A)\n",
    "\n",
    "from rpy2.robjects import pandas2ri\n",
    "from rpy2.robjects.conversion import localconverter\n",
    "def pd2r_temp(A):\n",
    "    with localconverter(ro.default_converter + pandas2ri.converter):\n",
    "        rtn = ro.conversion.py2rpy(A)\n",
    "    return rtn\n",
    "\n",
    "def r2pd_temp(A):\n",
    "    with localconverter(ro.default_converter + pandas2ri.converter):\n",
    "        rtn = ro.conversion.rpy2py(A)\n",
    "    return rtn\n",
    "\n",
    "def p2r(A):\n",
    "    if type(A)==type(initpd('0',n=2,p=2)):\n",
    "        rtn=pd2r_temp(A) \n",
    "    elif type(A)==type(init('0',(2,2))):\n",
    "        rtn=m2r_temp(A)\n",
    "    elif type(A)==str: #  elif type(pd.DataFrame(np.matrix(A)).iloc[0,0])==str: 와 순서바꾸면 안됨\n",
    "        rtn=s2r_temp(A)        \n",
    "    elif type(pd.DataFrame(np.matrix(A)).iloc[0,0])==str:\n",
    "        rtn=s2r_temp(pd.DataFrame(np.matrix(A)).T.iloc[:,0])\n",
    "    else:\n",
    "        rtn=a2r_temp(A)\n",
    "    return rtn\n",
    "        \n",
    "    "
   ]
  },
  {
   "cell_type": "code",
   "execution_count": 241,
   "metadata": {},
   "outputs": [],
   "source": [
    "def push(py,r):\n",
    "    ro.globalenv[r]=py\n",
    "\n",
    "def pull(r):\n",
    "    return ro.globalenv[r]"
   ]
  },
  {
   "cell_type": "code",
   "execution_count": 14,
   "metadata": {},
   "outputs": [
    {
     "data": {
      "text/html": [
       "\n",
       "        <span>FloatVector with 3 elements.</span>\n",
       "        <table>\n",
       "        <tbody>\n",
       "          <tr>\n",
       "          \n",
       "            <td>\n",
       "            10.000000\n",
       "            </td>\n",
       "          \n",
       "            <td>\n",
       "            17.000000\n",
       "            </td>\n",
       "          \n",
       "            <td>\n",
       "            26.000000\n",
       "            </td>\n",
       "          \n",
       "          </tr>\n",
       "        </tbody>\n",
       "        </table>\n",
       "        "
      ],
      "text/plain": [
       "R object with classes: ('numeric',) mapped to:\n",
       "[10.000000, 17.000000, 26.000000]"
      ]
     },
     "execution_count": 14,
     "metadata": {},
     "output_type": "execute_result"
    }
   ],
   "source": [
    "### R환경에 함수정의하기\n",
    "r(''' my_fun<-function(x) x^2+1''')\n",
    "r['my_fun'](a2r([3,4,5]))\n",
    "r('my_fun')(a2r([3,4,5]))\n",
    "r.my_fun(a2r([3,4,5])) \n",
    "## 얼핏보면 이게 젤 쉬워보이지만 R함수이름에 .이 포함되면 사용할 수 없다는 단점이 있다. "
   ]
  },
  {
   "cell_type": "code",
   "execution_count": 325,
   "metadata": {},
   "outputs": [
    {
     "data": {
      "text/plain": [
       "[10.0, 17.0, 26.0]"
      ]
     },
     "execution_count": 325,
     "metadata": {},
     "output_type": "execute_result"
    }
   ],
   "source": [
    "### R환경에서 정의한 함수를 마치 파이썬환경에서 정의한 함수처럼 쓰기 \n",
    "r(''' my_fun<-function(x) x^2+1''')\n",
    "my_fun_py_temp=r.my_fun\n",
    "def my_fun_py(a):\n",
    "    rtn=r2a(my_fun_py_temp(a2r(a)))\n",
    "    return rtn\n",
    "my_fun_py([3,4,5])"
   ]
  },
  {
   "cell_type": "code",
   "execution_count": 17,
   "metadata": {},
   "outputs": [],
   "source": [
    "### rhelp\n",
    "def rhelp(name):\n",
    "    str(utils.help(name))"
   ]
  },
  {
   "cell_type": "code",
   "execution_count": 18,
   "metadata": {},
   "outputs": [],
   "source": [
    "# rhelp('lm')"
   ]
  },
  {
   "cell_type": "code",
   "execution_count": 19,
   "metadata": {},
   "outputs": [],
   "source": [
    "# library(\"ADMM\")\n",
    "# rhelp('admm.bp')"
   ]
  },
  {
   "cell_type": "code",
   "execution_count": 340,
   "metadata": {},
   "outputs": [
    {
     "name": "stdout",
     "output_type": "stream",
     "text": [
      " [1]  0.1103061 -0.6428127  1.4267014  1.7752911 -0.7424625 -0.2296341\n",
      " [7] -0.0710503  2.8253824  0.6518532 -0.5431438\n"
     ]
    }
   ],
   "source": [
    "%%R \n",
    "Aro[,1]"
   ]
  },
  {
   "cell_type": "code",
   "execution_count": null,
   "metadata": {},
   "outputs": [],
   "source": []
  }
 ],
 "metadata": {
  "kernelspec": {
   "display_name": "Python 3",
   "language": "python",
   "name": "python3"
  },
  "language_info": {
   "codemirror_mode": {
    "name": "ipython",
    "version": 3
   },
   "file_extension": ".py",
   "mimetype": "text/x-python",
   "name": "python",
   "nbconvert_exporter": "python",
   "pygments_lexer": "ipython3",
   "version": "3.6.7"
  }
 },
 "nbformat": 4,
 "nbformat_minor": 4
}
