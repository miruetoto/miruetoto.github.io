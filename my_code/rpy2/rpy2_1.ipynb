{
 "cells": [
  {
   "cell_type": "code",
   "execution_count": 6,
   "metadata": {},
   "outputs": [
    {
     "name": "stderr",
     "output_type": "stream",
     "text": [
      "R[write to console]: Loading required package: usethis\n",
      "\n"
     ]
    }
   ],
   "source": [
    "## 1. remove trash\n",
    "!rm -rf ~/.local/share/Trash/files/*\n",
    "\n",
    "## 2. load useful functions\n",
    "import requests\n",
    "exec(requests.get('http://miruetoto.github.io/my_code/dataHandling.py').text)\n",
    "\n",
    "## 3. for R user\n",
    "%load_ext rpy2.ipython\n",
    "%R library(devtools)\n",
    "\n",
    "## 4. plt\n",
    "import matplotlib as mpl \n",
    "import matplotlib.pyplot as plt \n",
    "Ipython_default=plt.rcParams.copy() # save initial value \n",
    "from matplotlib import cycler\n",
    "plt.rc('figure',dpi=150) # default value 4 figure.dpi is 72.0 \n",
    "# plt.rcParams.update(Ipython_default) # load initial value \n",
    "\n",
    "## 5. Check GPU\n",
    "# from keras import backend as K\n",
    "# print('GPU check 4 Keras: '+ str(K.tensorflow_backend._get_available_gpus()))\n",
    "# import torch\n",
    "# print('GPU check 4 Pytorch: '+ str(torch.cuda.get_device_name(0)))\n",
    "\n",
    "## 6. Project Setting\n",
    "#exec(requests.get('http://miruetoto.github.io/my_code/RF/RF.py').text)\n",
    "#%R source_url('http://miruetoto.github.io/my_code/RF/RF.r')"
   ]
  },
  {
   "cell_type": "code",
   "execution_count": 9,
   "metadata": {},
   "outputs": [],
   "source": [
    "import rpy2\n",
    "import rpy2.robjects as ro\n",
    "\n",
    "### R에 설치된 패키지를 로드하는 방법\n",
    "import rpy2.robjects.packages as rpkg\n",
    "from rpy2.robjects.packages import importr as library\n",
    "### R에 패키지를 설치하는 방법"
   ]
  },
  {
   "cell_type": "code",
   "execution_count": null,
   "metadata": {},
   "outputs": [],
   "source": [
    "### R환경에 패키지를 로드하는 방법"
   ]
  },
  {
   "cell_type": "code",
   "execution_count": 8,
   "metadata": {},
   "outputs": [],
   "source": [
    "# %%R \n",
    "# ?ggplot"
   ]
  },
  {
   "cell_type": "code",
   "execution_count": 10,
   "metadata": {},
   "outputs": [
    {
     "data": {
      "text/plain": [
       "rpy2.robjects.packages.Package as a <module 'ggplot2'>"
      ]
     },
     "execution_count": 10,
     "metadata": {},
     "output_type": "execute_result"
    }
   ],
   "source": [
    "import rpy2.robjects.packages as rpkg\n",
    "from rpy2.robjects.packages import importr as library\n",
    "library('ggplot2')"
   ]
  },
  {
   "cell_type": "code",
   "execution_count": null,
   "metadata": {},
   "outputs": [],
   "source": [
    "# %%R \n",
    "# ?ggplot"
   ]
  },
  {
   "cell_type": "code",
   "execution_count": 11,
   "metadata": {},
   "outputs": [],
   "source": [
    "### R환경에 설치된 패키지를 로드하여 파이썬환경에 저장\n",
    "import rpy2.robjects.packages as rpkg\n",
    "from rpy2.robjects.packages import importr as library\n",
    "base=library('base')\n",
    "utils=library('utils')"
   ]
  },
  {
   "cell_type": "code",
   "execution_count": 12,
   "metadata": {},
   "outputs": [],
   "source": [
    "### R에 패키지를 설치하는 방법\n",
    "utils.chooseCRANmirror(ind=1) # select the first mirror in the list \n",
    "packnames=('ggplot2','hexbin','ADMM')\n",
    "names_to_install = [x for x in packnames if not rpkg.isinstalled(x)]\n",
    "if len(names_to_install)>0:\n",
    "    utils.install_packages(p2r(names_to_install))\n",
    "    \n",
    "## 더 쉬운방법\n",
    "r('install.packages')(\"dplyr\")"
   ]
  },
  {
   "cell_type": "code",
   "execution_count": 13,
   "metadata": {},
   "outputs": [
    {
     "data": {
      "text/html": [
       "\n",
       "        <span>IntVector with 3 elements.</span>\n",
       "        <table>\n",
       "        <tbody>\n",
       "          <tr>\n",
       "          \n",
       "            <td>\n",
       "            1\n",
       "            </td>\n",
       "          \n",
       "            <td>\n",
       "            2\n",
       "            </td>\n",
       "          \n",
       "            <td>\n",
       "            3\n",
       "            </td>\n",
       "          \n",
       "          </tr>\n",
       "        </tbody>\n",
       "        </table>\n",
       "        "
      ],
      "text/plain": [
       "R object with classes: ('RTYPES.INTSXP',) mapped to:\n",
       "[1, 2, 3]"
      ]
     },
     "execution_count": 13,
     "metadata": {},
     "output_type": "execute_result"
    }
   ],
   "source": [
    "### R코드구현법 \n",
    "r=ro.r\n",
    "# ex1 \n",
    "r('pi') \n",
    "r['pi'] ### R환경에 설치된 패키지를 로드하여 파이썬환경에 저장\n",
    "import rpy2.robjects.packages as rpkg\n",
    "from rpy2.robjects.packages import importr as library\n",
    "base=library('base')\n",
    "utils=library('utils')\n",
    "r.pi\n",
    "\n",
    "# ex2\n",
    "r('rnorm')(100)\n",
    "r['rnorm'](100)\n",
    "r.rnorm(100)\n",
    "\n",
    "# ex3 \n",
    "r('c')(1,2,3)\n",
    "r['c'](1,2,3)\n",
    "r.c(1,2,3)"
   ]
  },
  {
   "cell_type": "code",
   "execution_count": 14,
   "metadata": {},
   "outputs": [
    {
     "data": {
      "text/html": [
       "\n",
       "        <span>FloatVector with 3 elements.</span>\n",
       "        <table>\n",
       "        <tbody>\n",
       "          <tr>\n",
       "          \n",
       "            <td>\n",
       "            10.000000\n",
       "            </td>\n",
       "          \n",
       "            <td>\n",
       "            17.000000\n",
       "            </td>\n",
       "          \n",
       "            <td>\n",
       "            26.000000\n",
       "            </td>\n",
       "          \n",
       "          </tr>\n",
       "        </tbody>\n",
       "        </table>\n",
       "        "
      ],
      "text/plain": [
       "R object with classes: ('numeric',) mapped to:\n",
       "[10.000000, 17.000000, 26.000000]"
      ]
     },
     "execution_count": 14,
     "metadata": {},
     "output_type": "execute_result"
    }
   ],
   "source": [
    "### R환경에 함수정의하기\n",
    "r(''' my_fun<-function(x) x^2+1''')\n",
    "r['my_fun'](p2r([3,4,5]))\n",
    "r('my_fun')(p2r([3,4,5]))\n",
    "r.my_fun(p2r([3,4,5])) \n",
    "## 얼핏보면 이게 젤 쉬워보이지만 R함수이름에 .이 포함되면 사용할 수 없다는 단점이 있다. "
   ]
  },
  {
   "cell_type": "code",
   "execution_count": 15,
   "metadata": {},
   "outputs": [
    {
     "data": {
      "text/plain": [
       "[10.0, 17.0, 26.0]"
      ]
     },
     "execution_count": 15,
     "metadata": {},
     "output_type": "execute_result"
    }
   ],
   "source": [
    "### R환경에서 정의한 함수를 마치 파이썬환경에서 정의한 함수처럼 쓰기 \n",
    "r(''' my_fun<-function(x) x^2+1''')\n",
    "my_fun_py_temp=r.my_fun\n",
    "def my_fun_py(a):\n",
    "    rtn=r2p(my_fun_py_temp(p2r(a)))\n",
    "    return rtn\n",
    "my_fun_py([3,4,5])"
   ]
  },
  {
   "cell_type": "code",
   "execution_count": null,
   "metadata": {},
   "outputs": [],
   "source": [
    "%%R \n",
    "Aro[,1]"
   ]
  },
  {
   "cell_type": "code",
   "execution_count": null,
   "metadata": {},
   "outputs": [],
   "source": []
  }
 ],
 "metadata": {
  "kernelspec": {
   "display_name": "Python 3",
   "language": "python",
   "name": "python3"
  },
  "language_info": {
   "codemirror_mode": {
    "name": "ipython",
    "version": 3
   },
   "file_extension": ".py",
   "mimetype": "text/x-python",
   "name": "python",
   "nbconvert_exporter": "python",
   "pygments_lexer": "ipython3",
   "version": "3.7.5"
  }
 },
 "nbformat": 4,
 "nbformat_minor": 4
}
