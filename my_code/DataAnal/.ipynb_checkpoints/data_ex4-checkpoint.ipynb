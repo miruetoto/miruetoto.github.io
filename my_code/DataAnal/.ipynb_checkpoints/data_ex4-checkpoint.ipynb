{
 "cells": [
  {
   "cell_type": "code",
   "execution_count": 1,
   "metadata": {},
   "outputs": [
    {
     "name": "stderr",
     "output_type": "stream",
     "text": [
      "R[write to console]: Loading required package: usethis\n",
      "\n"
     ]
    },
    {
     "data": {
      "text/plain": [
       "array(['devtools', 'usethis', 'tools', 'stats', 'graphics', 'grDevices',\n",
       "       'utils', 'datasets', 'methods', 'base'], dtype='<U9')"
      ]
     },
     "execution_count": 1,
     "metadata": {},
     "output_type": "execute_result"
    }
   ],
   "source": [
    "import requests\n",
    "exec(requests.get('http://miruetoto.github.io/my_code/datahandling.py').text)\n",
    "%load_ext rpy2.ipython\n",
    "%R library(devtools)"
   ]
  },
  {
   "cell_type": "code",
   "execution_count": 5,
   "metadata": {},
   "outputs": [
    {
     "data": {
      "text/html": [
       "<div>\n",
       "<style scoped>\n",
       "    .dataframe tbody tr th:only-of-type {\n",
       "        vertical-align: middle;\n",
       "    }\n",
       "\n",
       "    .dataframe tbody tr th {\n",
       "        vertical-align: top;\n",
       "    }\n",
       "\n",
       "    .dataframe thead th {\n",
       "        text-align: right;\n",
       "    }\n",
       "</style>\n",
       "<table border=\"1\" class=\"dataframe\">\n",
       "  <thead>\n",
       "    <tr style=\"text-align: right;\">\n",
       "      <th></th>\n",
       "      <th>X1</th>\n",
       "      <th>X2</th>\n",
       "      <th>X3</th>\n",
       "      <th>X4</th>\n",
       "      <th>X5</th>\n",
       "    </tr>\n",
       "  </thead>\n",
       "  <tbody>\n",
       "    <tr>\n",
       "      <th>0</th>\n",
       "      <td>-0.371680</td>\n",
       "      <td>0.876046</td>\n",
       "      <td>-2.004898</td>\n",
       "      <td>1.694844</td>\n",
       "      <td>-1.963959</td>\n",
       "    </tr>\n",
       "    <tr>\n",
       "      <th>1</th>\n",
       "      <td>0.972377</td>\n",
       "      <td>-1.110529</td>\n",
       "      <td>-0.017706</td>\n",
       "      <td>-1.571943</td>\n",
       "      <td>0.869095</td>\n",
       "    </tr>\n",
       "    <tr>\n",
       "      <th>2</th>\n",
       "      <td>-0.650835</td>\n",
       "      <td>0.917589</td>\n",
       "      <td>0.918855</td>\n",
       "      <td>-1.639189</td>\n",
       "      <td>-0.159232</td>\n",
       "    </tr>\n",
       "    <tr>\n",
       "      <th>3</th>\n",
       "      <td>-0.092715</td>\n",
       "      <td>-2.210843</td>\n",
       "      <td>-0.244971</td>\n",
       "      <td>0.898503</td>\n",
       "      <td>-0.703499</td>\n",
       "    </tr>\n",
       "    <tr>\n",
       "      <th>4</th>\n",
       "      <td>-1.141552</td>\n",
       "      <td>-1.754273</td>\n",
       "      <td>1.712666</td>\n",
       "      <td>-0.152276</td>\n",
       "      <td>-0.257199</td>\n",
       "    </tr>\n",
       "    <tr>\n",
       "      <th>5</th>\n",
       "      <td>-0.499000</td>\n",
       "      <td>1.877311</td>\n",
       "      <td>-1.445074</td>\n",
       "      <td>-2.059666</td>\n",
       "      <td>0.512256</td>\n",
       "    </tr>\n",
       "    <tr>\n",
       "      <th>6</th>\n",
       "      <td>0.009580</td>\n",
       "      <td>0.108993</td>\n",
       "      <td>-1.129719</td>\n",
       "      <td>-1.390888</td>\n",
       "      <td>1.717772</td>\n",
       "    </tr>\n",
       "    <tr>\n",
       "      <th>7</th>\n",
       "      <td>1.092618</td>\n",
       "      <td>-0.650037</td>\n",
       "      <td>-0.558025</td>\n",
       "      <td>0.674181</td>\n",
       "      <td>-0.159306</td>\n",
       "    </tr>\n",
       "    <tr>\n",
       "      <th>8</th>\n",
       "      <td>0.004764</td>\n",
       "      <td>0.537981</td>\n",
       "      <td>2.314565</td>\n",
       "      <td>1.653040</td>\n",
       "      <td>0.150003</td>\n",
       "    </tr>\n",
       "    <tr>\n",
       "      <th>9</th>\n",
       "      <td>0.475280</td>\n",
       "      <td>-0.881807</td>\n",
       "      <td>-0.347492</td>\n",
       "      <td>-1.176708</td>\n",
       "      <td>-1.092068</td>\n",
       "    </tr>\n",
       "  </tbody>\n",
       "</table>\n",
       "</div>"
      ],
      "text/plain": [
       "         X1        X2        X3        X4        X5\n",
       "0 -0.371680  0.876046 -2.004898  1.694844 -1.963959\n",
       "1  0.972377 -1.110529 -0.017706 -1.571943  0.869095\n",
       "2 -0.650835  0.917589  0.918855 -1.639189 -0.159232\n",
       "3 -0.092715 -2.210843 -0.244971  0.898503 -0.703499\n",
       "4 -1.141552 -1.754273  1.712666 -0.152276 -0.257199\n",
       "5 -0.499000  1.877311 -1.445074 -2.059666  0.512256\n",
       "6  0.009580  0.108993 -1.129719 -1.390888  1.717772\n",
       "7  1.092618 -0.650037 -0.558025  0.674181 -0.159306\n",
       "8  0.004764  0.537981  2.314565  1.653040  0.150003\n",
       "9  0.475280 -0.881807 -0.347492 -1.176708 -1.092068"
      ]
     },
     "execution_count": 5,
     "metadata": {},
     "output_type": "execute_result"
    }
   ],
   "source": [
    "A=initpd(\"n\",n=10,p=5)\n",
    "push(A,\"A\")\n",
    "A"
   ]
  },
  {
   "cell_type": "code",
   "execution_count": 6,
   "metadata": {},
   "outputs": [
    {
     "name": "stdout",
     "output_type": "stream",
     "text": [
      "          X4         X5\n",
      "0  1.6948445 -1.9639589\n",
      "1 -1.5719428  0.8690947\n",
      "2 -1.6391890 -0.1592319\n",
      "3  0.8985033 -0.7034988\n",
      "4 -0.1522756 -0.2571991\n",
      "5 -2.0596655  0.5122561\n",
      "6 -1.3908877  1.7177715\n",
      "7  0.6741807 -0.1593060\n",
      "8  1.6530397  0.1500032\n",
      "9 -1.1767079 -1.0920679\n"
     ]
    }
   ],
   "source": [
    "%%R \n",
    "library(tidyverse)\n",
    "select(A,-(X1:X3))"
   ]
  },
  {
   "cell_type": "code",
   "execution_count": 9,
   "metadata": {},
   "outputs": [
    {
     "name": "stdout",
     "output_type": "stream",
     "text": [
      "          X4         X5\n",
      "0  1.6948445 -1.9639589\n",
      "1 -1.5719428  0.8690947\n",
      "2 -1.6391890 -0.1592319\n",
      "3  0.8985033 -0.7034988\n",
      "4 -0.1522756 -0.2571991\n",
      "5 -2.0596655  0.5122561\n",
      "6 -1.3908877  1.7177715\n",
      "7  0.6741807 -0.1593060\n",
      "8  1.6530397  0.1500032\n",
      "9 -1.1767079 -1.0920679\n"
     ]
    }
   ],
   "source": [
    "%%R \n",
    "select(A,-(1:3))"
   ]
  },
  {
   "cell_type": "code",
   "execution_count": 10,
   "metadata": {},
   "outputs": [
    {
     "name": "stdout",
     "output_type": "stream",
     "text": [
      "          X4         X5\n",
      "0  1.6948445 -1.9639589\n",
      "1 -1.5719428  0.8690947\n",
      "2 -1.6391890 -0.1592319\n",
      "3  0.8985033 -0.7034988\n",
      "4 -0.1522756 -0.2571991\n",
      "5 -2.0596655  0.5122561\n",
      "6 -1.3908877  1.7177715\n",
      "7  0.6741807 -0.1593060\n",
      "8  1.6530397  0.1500032\n",
      "9 -1.1767079 -1.0920679\n"
     ]
    }
   ],
   "source": [
    "%%R \n",
    "select(A,c(-1,-2,-3))"
   ]
  },
  {
   "cell_type": "code",
   "execution_count": null,
   "metadata": {},
   "outputs": [],
   "source": []
  }
 ],
 "metadata": {
  "kernelspec": {
   "display_name": "Python 3",
   "language": "python",
   "name": "python3"
  },
  "language_info": {
   "codemirror_mode": {
    "name": "ipython",
    "version": 3
   },
   "file_extension": ".py",
   "mimetype": "text/x-python",
   "name": "python",
   "nbconvert_exporter": "python",
   "pygments_lexer": "ipython3",
   "version": "3.6.7"
  }
 },
 "nbformat": 4,
 "nbformat_minor": 4
}
