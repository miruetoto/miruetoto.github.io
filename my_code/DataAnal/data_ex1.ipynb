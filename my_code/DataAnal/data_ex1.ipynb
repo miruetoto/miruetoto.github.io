{
 "cells": [
  {
   "cell_type": "code",
   "execution_count": 1,
   "metadata": {},
   "outputs": [],
   "source": [
    "import requests\n",
    "exec(requests.get('http://miruetoto.github.io/my_code/dataHandling.py').text)"
   ]
  },
  {
   "cell_type": "code",
   "execution_count": 2,
   "metadata": {},
   "outputs": [
    {
     "data": {
      "text/html": [
       "<div>\n",
       "<style scoped>\n",
       "    .dataframe tbody tr th:only-of-type {\n",
       "        vertical-align: middle;\n",
       "    }\n",
       "\n",
       "    .dataframe tbody tr th {\n",
       "        vertical-align: top;\n",
       "    }\n",
       "\n",
       "    .dataframe thead th {\n",
       "        text-align: right;\n",
       "    }\n",
       "</style>\n",
       "<table border=\"1\" class=\"dataframe\">\n",
       "  <thead>\n",
       "    <tr style=\"text-align: right;\">\n",
       "      <th></th>\n",
       "      <th>X1</th>\n",
       "      <th>X2</th>\n",
       "      <th>X3</th>\n",
       "      <th>X4</th>\n",
       "      <th>X5</th>\n",
       "    </tr>\n",
       "  </thead>\n",
       "  <tbody>\n",
       "    <tr>\n",
       "      <td>0</td>\n",
       "      <td>0.358207</td>\n",
       "      <td>1.906977</td>\n",
       "      <td>-2.409734</td>\n",
       "      <td>-0.294687</td>\n",
       "      <td>-0.933446</td>\n",
       "    </tr>\n",
       "    <tr>\n",
       "      <td>1</td>\n",
       "      <td>0.056839</td>\n",
       "      <td>-1.462403</td>\n",
       "      <td>0.899348</td>\n",
       "      <td>0.811920</td>\n",
       "      <td>-0.223133</td>\n",
       "    </tr>\n",
       "    <tr>\n",
       "      <td>2</td>\n",
       "      <td>1.453070</td>\n",
       "      <td>-0.596237</td>\n",
       "      <td>-0.764537</td>\n",
       "      <td>0.287145</td>\n",
       "      <td>-0.357971</td>\n",
       "    </tr>\n",
       "    <tr>\n",
       "      <td>3</td>\n",
       "      <td>-0.452381</td>\n",
       "      <td>0.434734</td>\n",
       "      <td>-1.316335</td>\n",
       "      <td>-1.053174</td>\n",
       "      <td>0.743521</td>\n",
       "    </tr>\n",
       "    <tr>\n",
       "      <td>4</td>\n",
       "      <td>0.021172</td>\n",
       "      <td>-0.000259</td>\n",
       "      <td>0.173121</td>\n",
       "      <td>0.856596</td>\n",
       "      <td>-0.198551</td>\n",
       "    </tr>\n",
       "    <tr>\n",
       "      <td>5</td>\n",
       "      <td>-0.338027</td>\n",
       "      <td>-1.529828</td>\n",
       "      <td>-0.237119</td>\n",
       "      <td>-1.602923</td>\n",
       "      <td>1.244829</td>\n",
       "    </tr>\n",
       "    <tr>\n",
       "      <td>6</td>\n",
       "      <td>0.747193</td>\n",
       "      <td>-0.549894</td>\n",
       "      <td>0.189194</td>\n",
       "      <td>-1.450881</td>\n",
       "      <td>1.245443</td>\n",
       "    </tr>\n",
       "    <tr>\n",
       "      <td>7</td>\n",
       "      <td>-0.592765</td>\n",
       "      <td>-0.204235</td>\n",
       "      <td>0.613097</td>\n",
       "      <td>-0.666143</td>\n",
       "      <td>-0.296184</td>\n",
       "    </tr>\n",
       "    <tr>\n",
       "      <td>8</td>\n",
       "      <td>-0.810642</td>\n",
       "      <td>-1.011082</td>\n",
       "      <td>-1.035960</td>\n",
       "      <td>-1.373954</td>\n",
       "      <td>-0.583566</td>\n",
       "    </tr>\n",
       "    <tr>\n",
       "      <td>9</td>\n",
       "      <td>-0.633714</td>\n",
       "      <td>2.284728</td>\n",
       "      <td>0.018455</td>\n",
       "      <td>0.854410</td>\n",
       "      <td>-1.279628</td>\n",
       "    </tr>\n",
       "  </tbody>\n",
       "</table>\n",
       "</div>"
      ],
      "text/plain": [
       "         X1        X2        X3        X4        X5\n",
       "0  0.358207  1.906977 -2.409734 -0.294687 -0.933446\n",
       "1  0.056839 -1.462403  0.899348  0.811920 -0.223133\n",
       "2  1.453070 -0.596237 -0.764537  0.287145 -0.357971\n",
       "3 -0.452381  0.434734 -1.316335 -1.053174  0.743521\n",
       "4  0.021172 -0.000259  0.173121  0.856596 -0.198551\n",
       "5 -0.338027 -1.529828 -0.237119 -1.602923  1.244829\n",
       "6  0.747193 -0.549894  0.189194 -1.450881  1.245443\n",
       "7 -0.592765 -0.204235  0.613097 -0.666143 -0.296184\n",
       "8 -0.810642 -1.011082 -1.035960 -1.373954 -0.583566\n",
       "9 -0.633714  2.284728  0.018455  0.854410 -1.279628"
      ]
     },
     "execution_count": 2,
     "metadata": {},
     "output_type": "execute_result"
    }
   ],
   "source": [
    "A=initpd(\"n\",n=10,p=5)\n",
    "A"
   ]
  },
  {
   "cell_type": "code",
   "execution_count": 3,
   "metadata": {},
   "outputs": [
    {
     "data": {
      "text/plain": [
       "matrix([[ 0.35820728,  0.35820728,  0.35820728,  0.35820728],\n",
       "        [ 0.05683921,  0.05683921,  0.05683921,  0.05683921],\n",
       "        [ 1.45306986,  1.45306986,  1.45306986,  1.45306986],\n",
       "        [-0.45238132, -0.45238132, -0.45238132, -0.45238132],\n",
       "        [ 0.02117193,  0.02117193,  0.02117193,  0.02117193],\n",
       "        [-0.33802744, -0.33802744, -0.33802744, -0.33802744],\n",
       "        [ 0.74719286,  0.74719286,  0.74719286,  0.74719286],\n",
       "        [-0.59276541, -0.59276541, -0.59276541, -0.59276541],\n",
       "        [-0.81064161, -0.81064161, -0.81064161, -0.81064161],\n",
       "        [-0.63371406, -0.63371406, -0.63371406, -0.63371406]])"
      ]
     },
     "execution_count": 3,
     "metadata": {},
     "output_type": "execute_result"
    }
   ],
   "source": [
    "cbind(A.X1,A['X1'],A.loc[:,'X1'],A.iloc[:,0])"
   ]
  }
 ],
 "metadata": {
  "kernelspec": {
   "display_name": "Python 3",
   "language": "python",
   "name": "python3"
  },
  "language_info": {
   "codemirror_mode": {
    "name": "ipython",
    "version": 3
   },
   "file_extension": ".py",
   "mimetype": "text/x-python",
   "name": "python",
   "nbconvert_exporter": "python",
   "pygments_lexer": "ipython3",
   "version": "3.7.5"
  }
 },
 "nbformat": 4,
 "nbformat_minor": 4
}
